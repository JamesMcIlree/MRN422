{
 "cells": [
  {
   "cell_type": "markdown",
   "id": "a8c5e2a4",
   "metadata": {},
   "source": [
    "# K-Nearest Neighbours"
   ]
  },
  {
   "cell_type": "code",
   "execution_count": 1,
   "id": "e9a6417c",
   "metadata": {},
   "outputs": [],
   "source": [
    "import numpy as np\n",
    "import random\n",
    "import matplotlib.pyplot as plt\n",
    "import matplotlib as mpl\n",
    "from mpl_toolkits import mplot3d\n",
    "import pandas as pd\n",
    "import seaborn as sns\n",
    "from scipy.stats import uniform, normaltest\n",
    "from sklearn import svm, neighbors, tree\n",
    "from sklearn import preprocessing\n",
    "from sklearn.pipeline import Pipeline\n",
    "from sklearn.model_selection import train_test_split, cross_val_score, learning_curve, GridSearchCV, validation_curve\n",
    "from sklearn.compose import ColumnTransformer\n",
    "from sklearn.ensemble import RandomForestRegressor\n",
    "from sklearn.naive_bayes import GaussianNB, CategoricalNB, MultinomialNB, ComplementNB, BernoulliNB\n",
    "from sklearn.neural_network import MLPClassifier\n",
    "from sklearn.linear_model import LogisticRegression\n",
    "from sklearn.cluster import KMeans,AgglomerativeClustering,SpectralClustering\n",
    "from sklearn.preprocessing import normalize, PowerTransformer, OneHotEncoder, OrdinalEncoder, Normalizer, StandardScaler\n",
    "from sklearn.decomposition import PCA\n",
    "from sklearn.metrics import accuracy_score, confusion_matrix, f1_score, roc_curve, roc_auc_score, plot_confusion_matrix,plot_roc_curve\n",
    "from sklearn.metrics import rand_score,adjusted_mutual_info_score"
   ]
  },
  {
   "cell_type": "markdown",
   "id": "62894e17",
   "metadata": {},
   "source": [
    "## Importing Data and Pre-processing"
   ]
  },
  {
   "cell_type": "code",
   "execution_count": 2,
   "id": "3ef9750d",
   "metadata": {},
   "outputs": [
    {
     "data": {
      "text/html": [
       "<div>\n",
       "<style scoped>\n",
       "    .dataframe tbody tr th:only-of-type {\n",
       "        vertical-align: middle;\n",
       "    }\n",
       "\n",
       "    .dataframe tbody tr th {\n",
       "        vertical-align: top;\n",
       "    }\n",
       "\n",
       "    .dataframe thead th {\n",
       "        text-align: right;\n",
       "    }\n",
       "</style>\n",
       "<table border=\"1\" class=\"dataframe\">\n",
       "  <thead>\n",
       "    <tr style=\"text-align: right;\">\n",
       "      <th></th>\n",
       "      <th>nf1</th>\n",
       "      <th>nf1_amp1</th>\n",
       "      <th>nf1_amp2</th>\n",
       "      <th>nf1_amp3</th>\n",
       "      <th>nf1_amp4</th>\n",
       "      <th>nf1_amp5</th>\n",
       "      <th>...</th>\n",
       "      <th>nf9_amp2</th>\n",
       "      <th>nf9_amp3</th>\n",
       "      <th>nf9_amp4</th>\n",
       "      <th>nf9_amp5</th>\n",
       "      <th>Contains_Crack</th>\n",
       "      <th>Position_of_Crack</th>\n",
       "    </tr>\n",
       "  </thead>\n",
       "  <tbody>\n",
       "    <tr>\n",
       "      <th>0</th>\n",
       "      <td>163.770</td>\n",
       "      <td>1.043534</td>\n",
       "      <td>1.043524</td>\n",
       "      <td>0.000001</td>\n",
       "      <td>1.043544</td>\n",
       "      <td>1.043534</td>\n",
       "      <td>...</td>\n",
       "      <td>0.053607</td>\n",
       "      <td>0.000155</td>\n",
       "      <td>0.053609</td>\n",
       "      <td>0.053611</td>\n",
       "      <td>No</td>\n",
       "      <td>No Crack</td>\n",
       "    </tr>\n",
       "    <tr>\n",
       "      <th>1</th>\n",
       "      <td>161.168</td>\n",
       "      <td>1.043284</td>\n",
       "      <td>1.038036</td>\n",
       "      <td>0.094323</td>\n",
       "      <td>1.031535</td>\n",
       "      <td>1.092445</td>\n",
       "      <td>...</td>\n",
       "      <td>0.069334</td>\n",
       "      <td>0.086817</td>\n",
       "      <td>0.460091</td>\n",
       "      <td>0.254838</td>\n",
       "      <td>Yes</td>\n",
       "      <td>Top Right</td>\n",
       "    </tr>\n",
       "    <tr>\n",
       "      <th>2</th>\n",
       "      <td>164.121</td>\n",
       "      <td>1.146271</td>\n",
       "      <td>1.026070</td>\n",
       "      <td>0.055705</td>\n",
       "      <td>1.013540</td>\n",
       "      <td>1.031031</td>\n",
       "      <td>...</td>\n",
       "      <td>0.391759</td>\n",
       "      <td>0.011229</td>\n",
       "      <td>0.163528</td>\n",
       "      <td>0.319310</td>\n",
       "      <td>Yes</td>\n",
       "      <td>Top Left</td>\n",
       "    </tr>\n",
       "    <tr>\n",
       "      <th>3</th>\n",
       "      <td>162.045</td>\n",
       "      <td>1.042523</td>\n",
       "      <td>1.045912</td>\n",
       "      <td>0.044661</td>\n",
       "      <td>1.056414</td>\n",
       "      <td>1.046251</td>\n",
       "      <td>...</td>\n",
       "      <td>0.053956</td>\n",
       "      <td>0.022008</td>\n",
       "      <td>0.054064</td>\n",
       "      <td>0.054362</td>\n",
       "      <td>Yes</td>\n",
       "      <td>Bottom Left</td>\n",
       "    </tr>\n",
       "    <tr>\n",
       "      <th>4</th>\n",
       "      <td>163.042</td>\n",
       "      <td>1.040145</td>\n",
       "      <td>1.030799</td>\n",
       "      <td>0.015596</td>\n",
       "      <td>1.043248</td>\n",
       "      <td>1.064751</td>\n",
       "      <td>...</td>\n",
       "      <td>0.053708</td>\n",
       "      <td>0.016016</td>\n",
       "      <td>0.057733</td>\n",
       "      <td>0.101230</td>\n",
       "      <td>Yes</td>\n",
       "      <td>Bottom Right</td>\n",
       "    </tr>\n",
       "    <tr>\n",
       "      <th>5</th>\n",
       "      <td>163.770</td>\n",
       "      <td>1.043534</td>\n",
       "      <td>1.043524</td>\n",
       "      <td>0.000001</td>\n",
       "      <td>1.043544</td>\n",
       "      <td>1.043534</td>\n",
       "      <td>...</td>\n",
       "      <td>0.053607</td>\n",
       "      <td>0.000155</td>\n",
       "      <td>0.053609</td>\n",
       "      <td>0.053611</td>\n",
       "      <td>No</td>\n",
       "      <td>No Crack</td>\n",
       "    </tr>\n",
       "    <tr>\n",
       "      <th>6</th>\n",
       "      <td>159.572</td>\n",
       "      <td>1.047045</td>\n",
       "      <td>1.027146</td>\n",
       "      <td>0.083370</td>\n",
       "      <td>1.042486</td>\n",
       "      <td>1.054308</td>\n",
       "      <td>...</td>\n",
       "      <td>0.146392</td>\n",
       "      <td>0.110386</td>\n",
       "      <td>0.068477</td>\n",
       "      <td>0.118288</td>\n",
       "      <td>Yes</td>\n",
       "      <td>Top Right</td>\n",
       "    </tr>\n",
       "  </tbody>\n",
       "</table>\n",
       "<p>7 rows × 56 columns</p>\n",
       "</div>"
      ],
      "text/plain": [
       "       nf1  nf1_amp1  nf1_amp2  nf1_amp3  nf1_amp4  nf1_amp5  ...  nf9_amp2  \\\n",
       "0  163.770  1.043534  1.043524  0.000001  1.043544  1.043534  ...  0.053607   \n",
       "1  161.168  1.043284  1.038036  0.094323  1.031535  1.092445  ...  0.069334   \n",
       "2  164.121  1.146271  1.026070  0.055705  1.013540  1.031031  ...  0.391759   \n",
       "3  162.045  1.042523  1.045912  0.044661  1.056414  1.046251  ...  0.053956   \n",
       "4  163.042  1.040145  1.030799  0.015596  1.043248  1.064751  ...  0.053708   \n",
       "5  163.770  1.043534  1.043524  0.000001  1.043544  1.043534  ...  0.053607   \n",
       "6  159.572  1.047045  1.027146  0.083370  1.042486  1.054308  ...  0.146392   \n",
       "\n",
       "   nf9_amp3  nf9_amp4  nf9_amp5  Contains_Crack  Position_of_Crack  \n",
       "0  0.000155  0.053609  0.053611              No           No Crack  \n",
       "1  0.086817  0.460091  0.254838             Yes          Top Right  \n",
       "2  0.011229  0.163528  0.319310             Yes           Top Left  \n",
       "3  0.022008  0.054064  0.054362             Yes        Bottom Left  \n",
       "4  0.016016  0.057733  0.101230             Yes       Bottom Right  \n",
       "5  0.000155  0.053609  0.053611              No           No Crack  \n",
       "6  0.110386  0.068477  0.118288             Yes          Top Right  \n",
       "\n",
       "[7 rows x 56 columns]"
      ]
     },
     "execution_count": 2,
     "metadata": {},
     "output_type": "execute_result"
    }
   ],
   "source": [
    "# Import Data\n",
    "data = pd.read_csv('data.txt',index_col=0)\n",
    "pd.set_option('display.max_columns', 12)\n",
    "data.head(7)"
   ]
  },
  {
   "cell_type": "code",
   "execution_count": 3,
   "id": "0b368093",
   "metadata": {},
   "outputs": [
    {
     "data": {
      "text/plain": [
       "(100, 56)"
      ]
     },
     "execution_count": 3,
     "metadata": {},
     "output_type": "execute_result"
    }
   ],
   "source": [
    "# Adding Noise\n",
    "np.random.seed(1)\n",
    "for col in data:\n",
    "    if col != 'Contains_Crack' and col != 'Position_of_Crack':\n",
    "        std_TR = np.std(data.loc[data['Position_of_Crack'] == 'Top Right', col])\n",
    "        std_TL = np.std(data.loc[data['Position_of_Crack'] == 'Top Left', col])\n",
    "        std_BL = np.std(data.loc[data['Position_of_Crack'] == 'Bottom Left', col])\n",
    "        std_BR = np.std(data.loc[data['Position_of_Crack'] == 'Bottom Right', col])\n",
    "        std_avg = (std_TR+std_TL+std_BL+std_BR)/4\n",
    "    \n",
    "        noise = np.random.uniform(-std_avg,std_avg,len(data[col]))\n",
    "        data[col] = data[col] + noise\n",
    "data.shape"
   ]
  },
  {
   "cell_type": "code",
   "execution_count": 4,
   "id": "7359ff69",
   "metadata": {},
   "outputs": [
    {
     "data": {
      "text/html": [
       "<div>\n",
       "<style scoped>\n",
       "    .dataframe tbody tr th:only-of-type {\n",
       "        vertical-align: middle;\n",
       "    }\n",
       "\n",
       "    .dataframe tbody tr th {\n",
       "        vertical-align: top;\n",
       "    }\n",
       "\n",
       "    .dataframe thead th {\n",
       "        text-align: right;\n",
       "    }\n",
       "</style>\n",
       "<table border=\"1\" class=\"dataframe\">\n",
       "  <thead>\n",
       "    <tr style=\"text-align: right;\">\n",
       "      <th></th>\n",
       "      <th>nf1</th>\n",
       "      <th>nf1_amp1</th>\n",
       "      <th>nf1_amp2</th>\n",
       "      <th>nf1_amp3</th>\n",
       "      <th>nf1_amp4</th>\n",
       "      <th>nf1_amp5</th>\n",
       "      <th>...</th>\n",
       "      <th>nf9</th>\n",
       "      <th>nf9_amp1</th>\n",
       "      <th>nf9_amp2</th>\n",
       "      <th>nf9_amp3</th>\n",
       "      <th>nf9_amp4</th>\n",
       "      <th>nf9_amp5</th>\n",
       "    </tr>\n",
       "  </thead>\n",
       "  <tbody>\n",
       "    <tr>\n",
       "      <th>0</th>\n",
       "      <td>163.516307</td>\n",
       "      <td>1.038170</td>\n",
       "      <td>1.068703</td>\n",
       "      <td>0.021232</td>\n",
       "      <td>1.062176</td>\n",
       "      <td>0.830729</td>\n",
       "      <td>...</td>\n",
       "      <td>838.715944</td>\n",
       "      <td>0.142866</td>\n",
       "      <td>0.098044</td>\n",
       "      <td>0.036677</td>\n",
       "      <td>0.128474</td>\n",
       "      <td>0.030246</td>\n",
       "    </tr>\n",
       "    <tr>\n",
       "      <th>1</th>\n",
       "      <td>161.841610</td>\n",
       "      <td>1.044121</td>\n",
       "      <td>1.041205</td>\n",
       "      <td>0.119850</td>\n",
       "      <td>1.043862</td>\n",
       "      <td>0.951773</td>\n",
       "      <td>...</td>\n",
       "      <td>822.922837</td>\n",
       "      <td>0.565163</td>\n",
       "      <td>0.135012</td>\n",
       "      <td>0.129534</td>\n",
       "      <td>0.459730</td>\n",
       "      <td>0.288985</td>\n",
       "    </tr>\n",
       "    <tr>\n",
       "      <th>2</th>\n",
       "      <td>162.592673</td>\n",
       "      <td>1.158212</td>\n",
       "      <td>1.049316</td>\n",
       "      <td>0.068532</td>\n",
       "      <td>0.994574</td>\n",
       "      <td>0.935274</td>\n",
       "      <td>...</td>\n",
       "      <td>825.845806</td>\n",
       "      <td>0.053755</td>\n",
       "      <td>0.275476</td>\n",
       "      <td>0.058117</td>\n",
       "      <td>0.141599</td>\n",
       "      <td>0.425193</td>\n",
       "    </tr>\n",
       "    <tr>\n",
       "      <th>3</th>\n",
       "      <td>161.440661</td>\n",
       "      <td>1.038107</td>\n",
       "      <td>1.053830</td>\n",
       "      <td>0.049393</td>\n",
       "      <td>1.064906</td>\n",
       "      <td>0.878473</td>\n",
       "      <td>...</td>\n",
       "      <td>838.426601</td>\n",
       "      <td>0.120835</td>\n",
       "      <td>0.173844</td>\n",
       "      <td>-0.024460</td>\n",
       "      <td>0.083506</td>\n",
       "      <td>0.037301</td>\n",
       "    </tr>\n",
       "    <tr>\n",
       "      <th>4</th>\n",
       "      <td>161.962008</td>\n",
       "      <td>1.052786</td>\n",
       "      <td>1.024647</td>\n",
       "      <td>-0.007485</td>\n",
       "      <td>1.041829</td>\n",
       "      <td>1.119997</td>\n",
       "      <td>...</td>\n",
       "      <td>835.374843</td>\n",
       "      <td>0.085093</td>\n",
       "      <td>-0.047885</td>\n",
       "      <td>0.068026</td>\n",
       "      <td>0.031878</td>\n",
       "      <td>0.102733</td>\n",
       "    </tr>\n",
       "    <tr>\n",
       "      <th>...</th>\n",
       "      <td>...</td>\n",
       "      <td>...</td>\n",
       "      <td>...</td>\n",
       "      <td>...</td>\n",
       "      <td>...</td>\n",
       "      <td>...</td>\n",
       "      <td>...</td>\n",
       "      <td>...</td>\n",
       "      <td>...</td>\n",
       "      <td>...</td>\n",
       "      <td>...</td>\n",
       "      <td>...</td>\n",
       "      <td>...</td>\n",
       "    </tr>\n",
       "    <tr>\n",
       "      <th>95</th>\n",
       "      <td>162.965998</td>\n",
       "      <td>1.056900</td>\n",
       "      <td>1.019373</td>\n",
       "      <td>0.023410</td>\n",
       "      <td>1.061058</td>\n",
       "      <td>0.888231</td>\n",
       "      <td>...</td>\n",
       "      <td>843.224625</td>\n",
       "      <td>-0.005461</td>\n",
       "      <td>-0.050806</td>\n",
       "      <td>0.051564</td>\n",
       "      <td>0.064393</td>\n",
       "      <td>-0.022629</td>\n",
       "    </tr>\n",
       "    <tr>\n",
       "      <th>96</th>\n",
       "      <td>160.879274</td>\n",
       "      <td>1.022117</td>\n",
       "      <td>1.119511</td>\n",
       "      <td>0.082316</td>\n",
       "      <td>1.057186</td>\n",
       "      <td>0.832265</td>\n",
       "      <td>...</td>\n",
       "      <td>827.146286</td>\n",
       "      <td>0.127383</td>\n",
       "      <td>0.116638</td>\n",
       "      <td>0.248995</td>\n",
       "      <td>0.304281</td>\n",
       "      <td>0.077025</td>\n",
       "    </tr>\n",
       "    <tr>\n",
       "      <th>97</th>\n",
       "      <td>162.440264</td>\n",
       "      <td>1.028118</td>\n",
       "      <td>1.011183</td>\n",
       "      <td>0.019398</td>\n",
       "      <td>1.055071</td>\n",
       "      <td>0.977400</td>\n",
       "      <td>...</td>\n",
       "      <td>828.464281</td>\n",
       "      <td>0.000394</td>\n",
       "      <td>0.245330</td>\n",
       "      <td>0.056035</td>\n",
       "      <td>0.243257</td>\n",
       "      <td>0.208921</td>\n",
       "    </tr>\n",
       "    <tr>\n",
       "      <th>98</th>\n",
       "      <td>163.178099</td>\n",
       "      <td>1.018555</td>\n",
       "      <td>1.058280</td>\n",
       "      <td>0.050581</td>\n",
       "      <td>1.157652</td>\n",
       "      <td>0.794373</td>\n",
       "      <td>...</td>\n",
       "      <td>835.827020</td>\n",
       "      <td>0.500143</td>\n",
       "      <td>0.284131</td>\n",
       "      <td>0.042238</td>\n",
       "      <td>0.096635</td>\n",
       "      <td>0.045737</td>\n",
       "    </tr>\n",
       "    <tr>\n",
       "      <th>99</th>\n",
       "      <td>158.601153</td>\n",
       "      <td>1.056867</td>\n",
       "      <td>1.029183</td>\n",
       "      <td>0.057000</td>\n",
       "      <td>1.034901</td>\n",
       "      <td>0.848400</td>\n",
       "      <td>...</td>\n",
       "      <td>836.100410</td>\n",
       "      <td>0.053540</td>\n",
       "      <td>0.103012</td>\n",
       "      <td>0.118470</td>\n",
       "      <td>0.133994</td>\n",
       "      <td>0.134070</td>\n",
       "    </tr>\n",
       "  </tbody>\n",
       "</table>\n",
       "<p>100 rows × 54 columns</p>\n",
       "</div>"
      ],
      "text/plain": [
       "           nf1  nf1_amp1  nf1_amp2  nf1_amp3  nf1_amp4  nf1_amp5  ...  \\\n",
       "0   163.516307  1.038170  1.068703  0.021232  1.062176  0.830729  ...   \n",
       "1   161.841610  1.044121  1.041205  0.119850  1.043862  0.951773  ...   \n",
       "2   162.592673  1.158212  1.049316  0.068532  0.994574  0.935274  ...   \n",
       "3   161.440661  1.038107  1.053830  0.049393  1.064906  0.878473  ...   \n",
       "4   161.962008  1.052786  1.024647 -0.007485  1.041829  1.119997  ...   \n",
       "..         ...       ...       ...       ...       ...       ...  ...   \n",
       "95  162.965998  1.056900  1.019373  0.023410  1.061058  0.888231  ...   \n",
       "96  160.879274  1.022117  1.119511  0.082316  1.057186  0.832265  ...   \n",
       "97  162.440264  1.028118  1.011183  0.019398  1.055071  0.977400  ...   \n",
       "98  163.178099  1.018555  1.058280  0.050581  1.157652  0.794373  ...   \n",
       "99  158.601153  1.056867  1.029183  0.057000  1.034901  0.848400  ...   \n",
       "\n",
       "           nf9  nf9_amp1  nf9_amp2  nf9_amp3  nf9_amp4  nf9_amp5  \n",
       "0   838.715944  0.142866  0.098044  0.036677  0.128474  0.030246  \n",
       "1   822.922837  0.565163  0.135012  0.129534  0.459730  0.288985  \n",
       "2   825.845806  0.053755  0.275476  0.058117  0.141599  0.425193  \n",
       "3   838.426601  0.120835  0.173844 -0.024460  0.083506  0.037301  \n",
       "4   835.374843  0.085093 -0.047885  0.068026  0.031878  0.102733  \n",
       "..         ...       ...       ...       ...       ...       ...  \n",
       "95  843.224625 -0.005461 -0.050806  0.051564  0.064393 -0.022629  \n",
       "96  827.146286  0.127383  0.116638  0.248995  0.304281  0.077025  \n",
       "97  828.464281  0.000394  0.245330  0.056035  0.243257  0.208921  \n",
       "98  835.827020  0.500143  0.284131  0.042238  0.096635  0.045737  \n",
       "99  836.100410  0.053540  0.103012  0.118470  0.133994  0.134070  \n",
       "\n",
       "[100 rows x 54 columns]"
      ]
     },
     "execution_count": 4,
     "metadata": {},
     "output_type": "execute_result"
    }
   ],
   "source": [
    "# Remove the target from the dataset\n",
    "data.dropna(axis=0, subset=['Contains_Crack','Position_of_Crack'], inplace=True)\n",
    "y1 = data.Contains_Crack\n",
    "y2 = data.Position_of_Crack\n",
    "data.drop(['Contains_Crack','Position_of_Crack'], axis=1, inplace=True)\n",
    "data"
   ]
  },
  {
   "cell_type": "code",
   "execution_count": 5,
   "id": "b4d119fc",
   "metadata": {},
   "outputs": [
    {
     "data": {
      "text/plain": [
       "array([0, 1, 1, 1, 1, 0, 1, 1, 1, 1, 0, 1, 1, 1, 1, 0, 1, 1, 1, 1, 0, 1,\n",
       "       1, 1, 1, 0, 1, 1, 1, 1, 0, 1, 1, 1, 1, 0, 1, 1, 1, 1, 0, 1, 1, 1,\n",
       "       1, 0, 1, 1, 1, 1, 0, 1, 1, 1, 1, 0, 1, 1, 1, 1, 0, 1, 1, 1, 1, 0,\n",
       "       1, 1, 1, 1, 0, 1, 1, 1, 1, 0, 1, 1, 1, 1, 0, 1, 1, 1, 1, 0, 1, 1,\n",
       "       1, 1, 0, 1, 1, 1, 1, 0, 1, 1, 1, 1])"
      ]
     },
     "execution_count": 5,
     "metadata": {},
     "output_type": "execute_result"
    }
   ],
   "source": [
    "# Encoding targets\n",
    "for idx in range(len(y1)):\n",
    "    if y1[idx] == 'Yes':\n",
    "        y1[idx] = int(1)\n",
    "    elif y1[idx] == 'No': \n",
    "        y1[idx] = int(0)\n",
    "    \n",
    "    if y2[idx] == 'No Crack':\n",
    "        y2[idx] = int(0)\n",
    "    elif y2[idx] == 'Top Right':\n",
    "        y2[idx] = int(1)\n",
    "    elif y2[idx] == 'Top Left':\n",
    "        y2[idx] = int(2)\n",
    "    elif y2[idx] == 'Bottom Left':\n",
    "        y2[idx] = int(3)\n",
    "    elif y2[idx] == 'Bottom Right':\n",
    "        y2[idx] = int(4)\n",
    "y1.to_numpy(dtype=int)"
   ]
  },
  {
   "cell_type": "code",
   "execution_count": 6,
   "id": "b741bb15",
   "metadata": {},
   "outputs": [],
   "source": [
    "# Split the data into feature sets\n",
    "X1 = data\n",
    "X2 = data[['nf1','nf2','nf3','nf4','nf5','nf6','nf7','nf8','nf9']]\n",
    "amp1 = data[['nf1_amp1','nf2_amp1','nf3_amp1','nf4_amp1','nf5_amp1','nf6_amp1','nf7_amp1','nf8_amp1','nf9_amp1']].max(axis=1)\n",
    "amp2 = data[['nf1_amp2','nf2_amp2','nf3_amp2','nf4_amp2','nf5_amp2','nf6_amp2','nf7_amp2','nf8_amp2','nf9_amp2']].max(axis=1)\n",
    "amp3 = data[['nf1_amp3','nf2_amp3','nf3_amp3','nf4_amp3','nf5_amp3','nf6_amp3','nf7_amp3','nf8_amp3','nf9_amp3']].max(axis=1)\n",
    "amp4 = data[['nf1_amp4','nf2_amp4','nf3_amp4','nf4_amp4','nf5_amp4','nf6_amp4','nf7_amp4','nf8_amp4','nf9_amp4']].max(axis=1)\n",
    "amp5 = data[['nf1_amp5','nf2_amp5','nf3_amp5','nf4_amp5','nf5_amp5','nf6_amp5','nf7_amp5','nf8_amp5','nf9_amp5']].max(axis=1)\n",
    "X3 = pd.DataFrame({'amp1':amp1,'amp2':amp2,'amp3':amp3,'amp4':amp4,'amp5':amp5})"
   ]
  },
  {
   "cell_type": "code",
   "execution_count": 7,
   "id": "17ccda82",
   "metadata": {},
   "outputs": [],
   "source": [
    "# Splitting into testing and training for the different feature sets\n",
    "X_train11, X_test11, y_train11, y_test11 = train_test_split(X1, y1.to_numpy(dtype=int), test_size=0.2, random_state = 0)\n",
    "X_train21, X_test21, y_train21, y_test21 = train_test_split(X2, y1.to_numpy(dtype=int), test_size=0.2, random_state = 0)\n",
    "X_train31, X_test31, y_train31, y_test31 = train_test_split(X3, y1.to_numpy(dtype=int), test_size=0.2, random_state = 0)\n",
    "\n",
    "X_train12, X_test12, y_train12, y_test12 = train_test_split(X1, y2.to_numpy(dtype=int), test_size=0.2, random_state = 0)\n",
    "X_train22, X_test22, y_train22, y_test22 = train_test_split(X2, y2.to_numpy(dtype=int), test_size=0.2, random_state = 0)\n",
    "X_train32, X_test32, y_train32, y_test32 = train_test_split(X3, y2.to_numpy(dtype=int), test_size=0.2, random_state = 0)"
   ]
  },
  {
   "cell_type": "code",
   "execution_count": 8,
   "id": "be38acf0",
   "metadata": {},
   "outputs": [
    {
     "name": "stderr",
     "output_type": "stream",
     "text": [
      "C:\\Users\\James\\anaconda3\\lib\\site-packages\\pandas\\core\\indexing.py:1951: SettingWithCopyWarning: \n",
      "A value is trying to be set on a copy of a slice from a DataFrame.\n",
      "Try using .loc[row_indexer,col_indexer] = value instead\n",
      "\n",
      "See the caveats in the documentation: https://pandas.pydata.org/pandas-docs/stable/user_guide/indexing.html#returning-a-view-versus-a-copy\n",
      "  self.obj[selected_item_labels] = value\n"
     ]
    },
    {
     "data": {
      "text/html": [
       "<div>\n",
       "<style scoped>\n",
       "    .dataframe tbody tr th:only-of-type {\n",
       "        vertical-align: middle;\n",
       "    }\n",
       "\n",
       "    .dataframe tbody tr th {\n",
       "        vertical-align: top;\n",
       "    }\n",
       "\n",
       "    .dataframe thead th {\n",
       "        text-align: right;\n",
       "    }\n",
       "</style>\n",
       "<table border=\"1\" class=\"dataframe\">\n",
       "  <thead>\n",
       "    <tr style=\"text-align: right;\">\n",
       "      <th></th>\n",
       "      <th>nf1</th>\n",
       "      <th>nf1_amp1</th>\n",
       "      <th>nf1_amp2</th>\n",
       "      <th>nf1_amp3</th>\n",
       "      <th>nf1_amp4</th>\n",
       "      <th>nf1_amp5</th>\n",
       "      <th>...</th>\n",
       "      <th>nf9</th>\n",
       "      <th>nf9_amp1</th>\n",
       "      <th>nf9_amp2</th>\n",
       "      <th>nf9_amp3</th>\n",
       "      <th>nf9_amp4</th>\n",
       "      <th>nf9_amp5</th>\n",
       "    </tr>\n",
       "  </thead>\n",
       "  <tbody>\n",
       "    <tr>\n",
       "      <th>43</th>\n",
       "      <td>3.581602</td>\n",
       "      <td>-0.048451</td>\n",
       "      <td>-0.043658</td>\n",
       "      <td>0.052843</td>\n",
       "      <td>0.100453</td>\n",
       "      <td>-0.158342</td>\n",
       "      <td>...</td>\n",
       "      <td>-0.181764</td>\n",
       "      <td>0.356719</td>\n",
       "      <td>0.337481</td>\n",
       "      <td>0.177689</td>\n",
       "      <td>-0.074283</td>\n",
       "      <td>0.050663</td>\n",
       "    </tr>\n",
       "    <tr>\n",
       "      <th>62</th>\n",
       "      <td>1.604523</td>\n",
       "      <td>0.025551</td>\n",
       "      <td>0.007492</td>\n",
       "      <td>0.004462</td>\n",
       "      <td>-0.022159</td>\n",
       "      <td>0.030694</td>\n",
       "      <td>...</td>\n",
       "      <td>-1.271669</td>\n",
       "      <td>-0.142383</td>\n",
       "      <td>-0.115478</td>\n",
       "      <td>0.050465</td>\n",
       "      <td>0.031750</td>\n",
       "      <td>0.175242</td>\n",
       "    </tr>\n",
       "    <tr>\n",
       "      <th>3</th>\n",
       "      <td>-0.952166</td>\n",
       "      <td>-0.004978</td>\n",
       "      <td>0.001227</td>\n",
       "      <td>0.013602</td>\n",
       "      <td>0.016607</td>\n",
       "      <td>-0.294224</td>\n",
       "      <td>...</td>\n",
       "      <td>4.279401</td>\n",
       "      <td>-0.045163</td>\n",
       "      <td>0.043198</td>\n",
       "      <td>-0.098740</td>\n",
       "      <td>-0.060349</td>\n",
       "      <td>-0.100357</td>\n",
       "    </tr>\n",
       "    <tr>\n",
       "      <th>71</th>\n",
       "      <td>-0.730195</td>\n",
       "      <td>0.010480</td>\n",
       "      <td>-0.007981</td>\n",
       "      <td>-0.061000</td>\n",
       "      <td>-0.010028</td>\n",
       "      <td>0.055629</td>\n",
       "      <td>...</td>\n",
       "      <td>-0.387632</td>\n",
       "      <td>-0.141004</td>\n",
       "      <td>-0.026556</td>\n",
       "      <td>0.075769</td>\n",
       "      <td>0.035946</td>\n",
       "      <td>0.057299</td>\n",
       "    </tr>\n",
       "    <tr>\n",
       "      <th>45</th>\n",
       "      <td>1.217865</td>\n",
       "      <td>-0.011695</td>\n",
       "      <td>-0.002813</td>\n",
       "      <td>-0.025489</td>\n",
       "      <td>0.011686</td>\n",
       "      <td>-0.381480</td>\n",
       "      <td>...</td>\n",
       "      <td>5.493934</td>\n",
       "      <td>-0.156968</td>\n",
       "      <td>-0.144323</td>\n",
       "      <td>-0.128259</td>\n",
       "      <td>-0.087670</td>\n",
       "      <td>-0.010572</td>\n",
       "    </tr>\n",
       "    <tr>\n",
       "      <th>...</th>\n",
       "      <td>...</td>\n",
       "      <td>...</td>\n",
       "      <td>...</td>\n",
       "      <td>...</td>\n",
       "      <td>...</td>\n",
       "      <td>...</td>\n",
       "      <td>...</td>\n",
       "      <td>...</td>\n",
       "      <td>...</td>\n",
       "      <td>...</td>\n",
       "      <td>...</td>\n",
       "      <td>...</td>\n",
       "      <td>...</td>\n",
       "    </tr>\n",
       "    <tr>\n",
       "      <th>96</th>\n",
       "      <td>-1.513553</td>\n",
       "      <td>-0.020967</td>\n",
       "      <td>0.066908</td>\n",
       "      <td>0.046525</td>\n",
       "      <td>0.008887</td>\n",
       "      <td>-0.340432</td>\n",
       "      <td>...</td>\n",
       "      <td>-7.000913</td>\n",
       "      <td>-0.038615</td>\n",
       "      <td>-0.014008</td>\n",
       "      <td>0.174715</td>\n",
       "      <td>0.160426</td>\n",
       "      <td>-0.060633</td>\n",
       "    </tr>\n",
       "    <tr>\n",
       "      <th>67</th>\n",
       "      <td>-3.011306</td>\n",
       "      <td>-0.006248</td>\n",
       "      <td>-0.003369</td>\n",
       "      <td>0.057404</td>\n",
       "      <td>-0.000890</td>\n",
       "      <td>0.087405</td>\n",
       "      <td>...</td>\n",
       "      <td>7.184263</td>\n",
       "      <td>0.033165</td>\n",
       "      <td>-0.159252</td>\n",
       "      <td>0.001808</td>\n",
       "      <td>-0.146549</td>\n",
       "      <td>-0.198326</td>\n",
       "    </tr>\n",
       "    <tr>\n",
       "      <th>64</th>\n",
       "      <td>-0.468779</td>\n",
       "      <td>-0.010707</td>\n",
       "      <td>0.005931</td>\n",
       "      <td>0.009249</td>\n",
       "      <td>0.010759</td>\n",
       "      <td>0.015932</td>\n",
       "      <td>...</td>\n",
       "      <td>-0.832896</td>\n",
       "      <td>0.133012</td>\n",
       "      <td>0.014252</td>\n",
       "      <td>0.299752</td>\n",
       "      <td>-0.118206</td>\n",
       "      <td>0.112470</td>\n",
       "    </tr>\n",
       "    <tr>\n",
       "      <th>47</th>\n",
       "      <td>-0.152822</td>\n",
       "      <td>0.002789</td>\n",
       "      <td>-0.014487</td>\n",
       "      <td>-0.026338</td>\n",
       "      <td>0.009009</td>\n",
       "      <td>-0.223336</td>\n",
       "      <td>...</td>\n",
       "      <td>4.725110</td>\n",
       "      <td>-0.170896</td>\n",
       "      <td>-0.006564</td>\n",
       "      <td>-0.107392</td>\n",
       "      <td>0.075193</td>\n",
       "      <td>-0.076399</td>\n",
       "    </tr>\n",
       "    <tr>\n",
       "      <th>44</th>\n",
       "      <td>-3.279906</td>\n",
       "      <td>-0.017667</td>\n",
       "      <td>0.058009</td>\n",
       "      <td>0.045430</td>\n",
       "      <td>0.018170</td>\n",
       "      <td>-0.323792</td>\n",
       "      <td>...</td>\n",
       "      <td>-3.372755</td>\n",
       "      <td>-0.116166</td>\n",
       "      <td>0.068561</td>\n",
       "      <td>0.034732</td>\n",
       "      <td>0.092962</td>\n",
       "      <td>-0.017323</td>\n",
       "    </tr>\n",
       "  </tbody>\n",
       "</table>\n",
       "<p>80 rows × 54 columns</p>\n",
       "</div>"
      ],
      "text/plain": [
       "         nf1  nf1_amp1  nf1_amp2  nf1_amp3  nf1_amp4  nf1_amp5  ...       nf9  \\\n",
       "43  3.581602 -0.048451 -0.043658  0.052843  0.100453 -0.158342  ... -0.181764   \n",
       "62  1.604523  0.025551  0.007492  0.004462 -0.022159  0.030694  ... -1.271669   \n",
       "3  -0.952166 -0.004978  0.001227  0.013602  0.016607 -0.294224  ...  4.279401   \n",
       "71 -0.730195  0.010480 -0.007981 -0.061000 -0.010028  0.055629  ... -0.387632   \n",
       "45  1.217865 -0.011695 -0.002813 -0.025489  0.011686 -0.381480  ...  5.493934   \n",
       "..       ...       ...       ...       ...       ...       ...  ...       ...   \n",
       "96 -1.513553 -0.020967  0.066908  0.046525  0.008887 -0.340432  ... -7.000913   \n",
       "67 -3.011306 -0.006248 -0.003369  0.057404 -0.000890  0.087405  ...  7.184263   \n",
       "64 -0.468779 -0.010707  0.005931  0.009249  0.010759  0.015932  ... -0.832896   \n",
       "47 -0.152822  0.002789 -0.014487 -0.026338  0.009009 -0.223336  ...  4.725110   \n",
       "44 -3.279906 -0.017667  0.058009  0.045430  0.018170 -0.323792  ... -3.372755   \n",
       "\n",
       "    nf9_amp1  nf9_amp2  nf9_amp3  nf9_amp4  nf9_amp5  \n",
       "43  0.356719  0.337481  0.177689 -0.074283  0.050663  \n",
       "62 -0.142383 -0.115478  0.050465  0.031750  0.175242  \n",
       "3  -0.045163  0.043198 -0.098740 -0.060349 -0.100357  \n",
       "71 -0.141004 -0.026556  0.075769  0.035946  0.057299  \n",
       "45 -0.156968 -0.144323 -0.128259 -0.087670 -0.010572  \n",
       "..       ...       ...       ...       ...       ...  \n",
       "96 -0.038615 -0.014008  0.174715  0.160426 -0.060633  \n",
       "67  0.033165 -0.159252  0.001808 -0.146549 -0.198326  \n",
       "64  0.133012  0.014252  0.299752 -0.118206  0.112470  \n",
       "47 -0.170896 -0.006564 -0.107392  0.075193 -0.076399  \n",
       "44 -0.116166  0.068561  0.034732  0.092962 -0.017323  \n",
       "\n",
       "[80 rows x 54 columns]"
      ]
     },
     "execution_count": 8,
     "metadata": {},
     "output_type": "execute_result"
    }
   ],
   "source": [
    "# Mean Center the data\n",
    "for col in X_train11:\n",
    "    X_test11.loc[:,col] = X_test11.loc[:,col] - X_train11.loc[:,col].mean()\n",
    "    X_train11.loc[:,col] = X_train11.loc[:,col] - X_train11.loc[:,col].mean()\n",
    "    \n",
    "    X_test12.loc[:,col] = X_test12.loc[:,col] - X_train12.loc[:,col].mean()\n",
    "    X_train12.loc[:,col] = X_train12.loc[:,col] - X_train12.loc[:,col].mean()\n",
    "\n",
    "for col in X_train21:\n",
    "    X_test21.loc[:,col] = X_test21.loc[:,col] - X_train21.loc[:,col].mean()\n",
    "    X_train21.loc[:,col] = X_train21.loc[:,col] - X_train21.loc[:,col].mean()\n",
    "    \n",
    "    X_test22.loc[:,col] = X_test22.loc[:,col] - X_train22.loc[:,col].mean()\n",
    "    X_train22.loc[:,col] = X_train22.loc[:,col] - X_train22.loc[:,col].mean()\n",
    "    \n",
    "for col in X_train31:\n",
    "    X_test31.loc[:,col] = X_test31.loc[:,col] - X_train31.loc[:,col].mean()\n",
    "    X_train31.loc[:,col] = X_train31[col] - X_train31[col].mean()\n",
    "    \n",
    "    X_test32.loc[:,col] = X_test32.loc[:,col] - X_train32.loc[:,col].mean()\n",
    "    X_train32.loc[:,col] = X_train32.loc[:,col] - X_train32.loc[:,col].mean()\n",
    "\n",
    "X_train11"
   ]
  },
  {
   "cell_type": "markdown",
   "id": "b91d53ed",
   "metadata": {},
   "source": [
    "## No Scaling"
   ]
  },
  {
   "cell_type": "code",
   "execution_count": 11,
   "id": "50ef9929",
   "metadata": {},
   "outputs": [
    {
     "data": {
      "text/plain": [
       "Text(0.5, 1.0, 'Accuracy Score vs N')"
      ]
     },
     "execution_count": 11,
     "metadata": {},
     "output_type": "execute_result"
    },
    {
     "data": {
      "image/png": "[encoded data removed]",
      "text/plain": [
       "<Figure size 432x288 with 1 Axes>"
      ]
     },
     "metadata": {
      "needs_background": "light"
     },
     "output_type": "display_data"
    }
   ],
   "source": [
    "# NN Test\n",
    "N = 40\n",
    "accuracy_x1y1 = []\n",
    "accuracy_x2y1 = []\n",
    "accuracy_x3y1 = []\n",
    "accuracy_x1y2 = []\n",
    "accuracy_x2y2 = []\n",
    "accuracy_x3y2 = []\n",
    "for Ni in range(N):\n",
    "    x1y1_nn = neighbors.KNeighborsClassifier(Ni+1)\n",
    "    x1y1_nn.fit(X_train11, y_train11)    \n",
    "    x1y1_predict = x1y1_nn.predict(X_test11)\n",
    "    x1y1_accuracy_score = accuracy_score(y_test11,x1y1_predict)\n",
    "    \n",
    "    x2y1_nn = neighbors.KNeighborsClassifier(Ni+1)\n",
    "    x2y1_nn.fit(X_train21, y_train21)\n",
    "    x2y1_predict = x2y1_nn.predict(X_test21)\n",
    "    x2y1_accuracy_score = accuracy_score(y_test21,x2y1_predict)\n",
    "    \n",
    "    x3y1_nn = neighbors.KNeighborsClassifier(Ni+1)\n",
    "    x3y1_nn.fit(X_train31, y_train31)\n",
    "    x3y1_predict = x3y1_nn.predict(X_test31)\n",
    "    x3y1_accuracy_score = accuracy_score(y_test31,x3y1_predict)\n",
    "\n",
    "    x1y2_nn = neighbors.KNeighborsClassifier(Ni+1)\n",
    "    x1y2_nn.fit(X_train12, y_train12)\n",
    "    x1y2_predict = x1y2_nn.predict(X_test12)\n",
    "    x1y2_accuracy_score = accuracy_score(y_test12,x1y2_predict)\n",
    "    \n",
    "    x2y2_nn = neighbors.KNeighborsClassifier(Ni+1)\n",
    "    x2y2_nn.fit(X_train22, y_train22)\n",
    "    x2y2_predict = x2y2_nn.predict(X_test22)\n",
    "    x2y2_accuracy_score = accuracy_score(y_test22,x2y2_predict)\n",
    "    \n",
    "    x3y2_nn = neighbors.KNeighborsClassifier(Ni+1)\n",
    "    x3y2_nn.fit(X_train32, y_train32)\n",
    "    x3y2_predict = x3y2_nn.predict(X_test32)\n",
    "    x3y2_accuracy_score = accuracy_score(y_test32,x3y2_predict)    \n",
    "    \n",
    "    accuracy_x1y1.append(x1y1_accuracy_score)\n",
    "    accuracy_x2y1.append(x2y1_accuracy_score)\n",
    "    accuracy_x3y1.append(x3y1_accuracy_score)\n",
    "    accuracy_x1y2.append(x1y2_accuracy_score)\n",
    "    accuracy_x2y2.append(x2y2_accuracy_score)\n",
    "    accuracy_x3y2.append(x3y2_accuracy_score)\n",
    "    \n",
    "plt.figure()\n",
    "plt.plot(np.linspace(1,N+1,N),accuracy_x1y1,label=\"x1, y1\")\n",
    "plt.plot(np.linspace(1,N+1,N),accuracy_x2y1,label=\"x2, y1\")\n",
    "plt.plot(np.linspace(1,N+1,N),accuracy_x3y1,label=\"x3, y1\")\n",
    "plt.plot(np.linspace(1,N+1,N),accuracy_x1y2,label=\"x1, y2\")\n",
    "plt.plot(np.linspace(1,N+1,N),accuracy_x2y2,label=\"x2, y2\")\n",
    "plt.plot(np.linspace(1,N+1,N),accuracy_x3y2,label=\"x3, y2\")\n",
    "plt.legend(loc='upper right')\n",
    "plt.xlabel(\"N\")\n",
    "plt.ylabel(\"Accuracy Score\")\n",
    "plt.title(\"Accuracy Score vs N\")"
   ]
  },
  {
   "cell_type": "code",
   "execution_count": 9,
   "id": "dec68184",
   "metadata": {},
   "outputs": [
    {
     "name": "stdout",
     "output_type": "stream",
     "text": [
      "Predicted values using x1 and y1: [1 1 1 0 0 1 1 1 1 0 1 1 1 1 1 0 1 1 1 1]\n",
      "Expected values: [1 1 1 0 0 1 1 1 1 0 1 1 1 1 1 0 1 1 1 1]\n",
      "Resulting in an accuracy score of: 1.0 and f1 score of: 1.0 and AUC score of 1.0 \n",
      "\n"
     ]
    },
    {
     "data": {
      "image/png": "[encoded data removed]",
      "text/plain": [
       "<Figure size 432x288 with 2 Axes>"
      ]
     },
     "metadata": {
      "needs_background": "light"
     },
     "output_type": "display_data"
    },
    {
     "name": "stdout",
     "output_type": "stream",
     "text": [
      "Predicted values using x2 and y1: [1 1 1 0 0 1 1 1 1 0 1 1 1 1 1 0 1 1 1 1]\n",
      "Expected values: [1 1 1 0 0 1 1 1 1 0 1 1 1 1 1 0 1 1 1 1]\n",
      "Resulting in an accuracy score of: 1.0 and f1 score of: 1.0 and AUC score of 1.0 \n",
      "\n"
     ]
    },
    {
     "data": {
      "image/png": "[encoded data removed]",
      "text/plain": [
       "<Figure size 432x288 with 2 Axes>"
      ]
     },
     "metadata": {
      "needs_background": "light"
     },
     "output_type": "display_data"
    },
    {
     "name": "stdout",
     "output_type": "stream",
     "text": [
      "Predicted values using x3 and y1: [1 1 1 0 1 1 1 1 1 1 1 1 1 1 1 1 1 1 1 1]\n",
      "Expected values: [1 1 1 0 0 1 1 1 1 0 1 1 1 1 1 0 1 1 1 1]\n",
      "Resulting in an accuracy score of: 0.85 and f1 score of: 0.9142857142857143 and AUC score of 0.625 \n",
      "\n"
     ]
    },
    {
     "data": {
      "image/png": "[encoded data removed]",
      "text/plain": [
       "<Figure size 432x288 with 2 Axes>"
      ]
     },
     "metadata": {
      "needs_background": "light"
     },
     "output_type": "display_data"
    }
   ],
   "source": [
    "# Situation 1\n",
    "# x1 y1\n",
    "x1y1_nn = neighbors.KNeighborsClassifier(n_neighbors)\n",
    "x1y1_nn.fit(X_train11, y_train11)\n",
    "\n",
    "x1y1_predict = x1y1_nn.predict(X_test11)\n",
    "x1y1_accuracy_score = accuracy_score(y_test11,x1y1_predict)\n",
    "x1y1_f1_score = f1_score(y_test11,x1y1_predict)\n",
    "x1y1_AUC_score = roc_auc_score(y_test11,x1y1_predict)\n",
    "\n",
    "print(\"Predicted values using x1 and y1:\",x1y1_predict)\n",
    "print(\"Expected values:\",y_test11)\n",
    "print(\"Resulting in an accuracy score of:\",x1y1_accuracy_score,\"and f1 score of:\",x1y1_f1_score,\"and AUC score of\",x1y1_AUC_score,\"\\n\")\n",
    "plot_confusion_matrix(x1y1_nn,X_test11,y_test11,cmap=plt.cm.Blues)\n",
    "plt.title(\"Confusion Matrix for x1, y1\")\n",
    "plt.show()\n",
    "\n",
    "# x2 y1\n",
    "x2y1_nn = neighbors.KNeighborsClassifier(n_neighbors)\n",
    "x2y1_nn.fit(X_train21, y_train21)\n",
    "\n",
    "x2y1_predict = x2y1_nn.predict(X_test21)\n",
    "x2y1_accuracy_score = accuracy_score(y_test21,x2y1_predict)\n",
    "x2y1_f1_score = f1_score(y_test21,x2y1_predict) \n",
    "x2y1_AUC_score = roc_auc_score(y_test21,x2y1_predict)\n",
    "    \n",
    "print(\"Predicted values using x2 and y1:\",x2y1_predict)\n",
    "print(\"Expected values:\",y_test21)\n",
    "print(\"Resulting in an accuracy score of:\",x2y1_accuracy_score,\"and f1 score of:\",x2y1_f1_score,\"and AUC score of\",x2y1_AUC_score,\"\\n\")\n",
    "plot_confusion_matrix(x2y1_nn,X_test21,y_test21,cmap=plt.cm.Blues)\n",
    "plt.title(\"Confusion Matrix for x2, y1\")\n",
    "plt.show()\n",
    "\n",
    "# x3 y1\n",
    "x3y1_nn = neighbors.KNeighborsClassifier(n_neighbors)\n",
    "x3y1_nn.fit(X_train31, y_train31)\n",
    "\n",
    "x3y1_predict = x3y1_nn.predict(X_test31)\n",
    "x3y1_accuracy_score = accuracy_score(y_test31,x3y1_predict)\n",
    "x3y1_f1_score = f1_score(y_test31,x3y1_predict)\n",
    "x3y1_AUC_score = roc_auc_score(y_test31,x3y1_predict)\n",
    "\n",
    "print(\"Predicted values using x3 and y1:\",x3y1_predict)\n",
    "print(\"Expected values:\",y_test31)\n",
    "print(\"Resulting in an accuracy score of:\",x3y1_accuracy_score,\"and f1 score of:\",x3y1_f1_score,\"and AUC score of\",x3y1_AUC_score,\"\\n\")\n",
    "plot_confusion_matrix(x3y1_nn,X_test31,y_test31,cmap=plt.cm.Blues)\n",
    "plt.title(\"Confusion Matrix for x3, y1\")\n",
    "plt.show()"
   ]
  },
  {
   "cell_type": "code",
   "execution_count": 10,
   "id": "3e6b1647",
   "metadata": {},
   "outputs": [
    {
     "name": "stdout",
     "output_type": "stream",
     "text": [
      "Predicted values using x1 and y2: [1 1 2 0 0 3 1 3 2 0 2 4 3 4 2 0 2 4 3 4]\n",
      "Expected values: [1 1 2 0 0 3 1 3 4 0 3 2 3 3 2 0 2 4 3 3]\n",
      "Resulting in an accuracy score of: 0.75 and f1 score of: 0.7454545454545454 and AUC score of 0.9208333333333334 \n",
      "\n"
     ]
    },
    {
     "data": {
      "image/png": "[encoded data removed]",
      "text/plain": [
       "<Figure size 432x288 with 2 Axes>"
      ]
     },
     "metadata": {
      "needs_background": "light"
     },
     "output_type": "display_data"
    },
    {
     "name": "stdout",
     "output_type": "stream",
     "text": [
      "Predicted values using x2 and y2: [4 2 1 0 0 1 4 1 3 0 2 2 1 4 2 0 3 4 4 4]\n",
      "Expected values: [1 1 2 0 0 3 1 3 4 0 3 2 3 3 2 0 2 4 3 3]\n",
      "Resulting in an accuracy score of: 0.35 and f1 score of: 0.35 and AUC score of 0.656547619047619 \n",
      "\n"
     ]
    },
    {
     "data": {
      "image/png": "[encoded data removed]",
      "text/plain": [
       "<Figure size 432x288 with 2 Axes>"
      ]
     },
     "metadata": {
      "needs_background": "light"
     },
     "output_type": "display_data"
    },
    {
     "name": "stdout",
     "output_type": "stream",
     "text": [
      "Predicted values using x3 and y2: [1 1 2 0 0 0 1 0 4 0 0 2 3 3 2 1 2 0 3 2]\n",
      "Expected values: [1 1 2 0 0 3 1 3 4 0 3 2 3 3 2 0 2 4 3 3]\n",
      "Resulting in an accuracy score of: 0.7 and f1 score of: 0.7116305916305916 and AUC score of 0.879761904761905 \n",
      "\n"
     ]
    },
    {
     "data": {
      "image/png": "[encoded data removed]",
      "text/plain": [
       "<Figure size 432x288 with 2 Axes>"
      ]
     },
     "metadata": {
      "needs_background": "light"
     },
     "output_type": "display_data"
    }
   ],
   "source": [
    "# Situation 2\n",
    "# x1 y2\n",
    "x1y2_nn = neighbors.KNeighborsClassifier(n_neighbors)\n",
    "x1y2_nn.fit(X_train12, y_train12)\n",
    "\n",
    "x1y2_predict = x1y2_nn.predict(X_test12)\n",
    "x1y2_accuracy_score = accuracy_score(y_test12,x1y2_predict)\n",
    "x1y2_f1_score = f1_score(y_test12,x1y2_predict,average='macro')\n",
    "x1y2_y_prob = x1y2_nn.predict_proba(X_test12)\n",
    "x1y2_AUC_score = roc_auc_score(y_test12,x1y2_y_prob,multi_class=\"ovo\",average='macro')\n",
    "\n",
    "print(\"Predicted values using x1 and y2:\",x1y2_predict)\n",
    "print(\"Expected values:\",y_test12)\n",
    "print(\"Resulting in an accuracy score of:\",x1y2_accuracy_score,\"and f1 score of:\",x1y2_f1_score,\"and AUC score of\",x1y2_AUC_score,\"\\n\")\n",
    "plot_confusion_matrix(x1y2_nn,X_test12,y_test12,cmap=plt.cm.Blues)\n",
    "plt.title(\"Confusion Matrix for x1, y2\")\n",
    "plt.show()\n",
    "\n",
    "# x2 y2\n",
    "x2y2_nn = neighbors.KNeighborsClassifier(n_neighbors)\n",
    "x2y2_nn.fit(X_train22, y_train22)\n",
    "\n",
    "x2y2_predict = x2y2_nn.predict(X_test22)\n",
    "x2y2_accuracy_score = accuracy_score(y_test22,x2y2_predict)\n",
    "x2y2_f1_score = f1_score(y_test22,x2y2_predict,average='macro')\n",
    "x2y2_y_prob = x2y2_nn.predict_proba(X_test22)\n",
    "x2y2_AUC_score = roc_auc_score(y_test22,x2y2_y_prob,multi_class=\"ovo\",average='macro')\n",
    "    \n",
    "print(\"Predicted values using x2 and y2:\",x2y2_predict)\n",
    "print(\"Expected values:\",y_test22)\n",
    "print(\"Resulting in an accuracy score of:\",x2y2_accuracy_score,\"and f1 score of:\",x2y2_f1_score,\"and AUC score of\",x2y2_AUC_score,\"\\n\")\n",
    "plot_confusion_matrix(x2y2_nn,X_test22,y_test22,cmap=plt.cm.Blues)\n",
    "plt.title(\"Confusion Matrix for x2, y2\")\n",
    "plt.show()\n",
    "\n",
    "# x3 y2\n",
    "x3y2_nn = neighbors.KNeighborsClassifier(n_neighbors)\n",
    "x3y2_nn.fit(X_train32, y_train32)\n",
    "\n",
    "x3y2_predict = x3y2_nn.predict(X_test32)\n",
    "x3y2_accuracy_score = accuracy_score(y_test32,x3y2_predict)\n",
    "x3y2_f1_score = f1_score(y_test32,x3y2_predict,average='macro')\n",
    "x3y2_y_prob = x3y2_nn.predict_proba(X_test32)\n",
    "x3y2_AUC_score = roc_auc_score(y_test32,x3y2_y_prob,multi_class=\"ovo\",average='macro')\n",
    "\n",
    "print(\"Predicted values using x3 and y2:\",x3y2_predict)\n",
    "print(\"Expected values:\",y_test32)\n",
    "print(\"Resulting in an accuracy score of:\",x3y2_accuracy_score,\"and f1 score of:\",x3y2_f1_score,\"and AUC score of\",x3y2_AUC_score,\"\\n\")\n",
    "plot_confusion_matrix(x3y2_nn,X_test32,y_test32,cmap=plt.cm.Blues)\n",
    "plt.title(\"Confusion Matrix for x3, y2\")\n",
    "plt.show()"
   ]
  },
  {
   "cell_type": "markdown",
   "id": "bceade5b",
   "metadata": {},
   "source": [
    "## Normalisation"
   ]
  },
  {
   "cell_type": "code",
   "execution_count": 13,
   "id": "e053b4eb",
   "metadata": {},
   "outputs": [
    {
     "data": {
      "text/html": [
       "<div>\n",
       "<style scoped>\n",
       "    .dataframe tbody tr th:only-of-type {\n",
       "        vertical-align: middle;\n",
       "    }\n",
       "\n",
       "    .dataframe tbody tr th {\n",
       "        vertical-align: top;\n",
       "    }\n",
       "\n",
       "    .dataframe thead th {\n",
       "        text-align: right;\n",
       "    }\n",
       "</style>\n",
       "<table border=\"1\" class=\"dataframe\">\n",
       "  <thead>\n",
       "    <tr style=\"text-align: right;\">\n",
       "      <th></th>\n",
       "      <th>0</th>\n",
       "      <th>1</th>\n",
       "      <th>2</th>\n",
       "      <th>3</th>\n",
       "      <th>4</th>\n",
       "    </tr>\n",
       "  </thead>\n",
       "  <tbody>\n",
       "    <tr>\n",
       "      <th>0</th>\n",
       "      <td>0.397813</td>\n",
       "      <td>-0.238586</td>\n",
       "      <td>-0.095298</td>\n",
       "      <td>0.771969</td>\n",
       "      <td>0.424032</td>\n",
       "    </tr>\n",
       "    <tr>\n",
       "      <th>1</th>\n",
       "      <td>0.513168</td>\n",
       "      <td>-0.005580</td>\n",
       "      <td>-0.062190</td>\n",
       "      <td>-0.272431</td>\n",
       "      <td>-0.811506</td>\n",
       "    </tr>\n",
       "    <tr>\n",
       "      <th>2</th>\n",
       "      <td>-0.361775</td>\n",
       "      <td>-0.090618</td>\n",
       "      <td>0.079766</td>\n",
       "      <td>-0.494664</td>\n",
       "      <td>-0.780930</td>\n",
       "    </tr>\n",
       "    <tr>\n",
       "      <th>3</th>\n",
       "      <td>0.582187</td>\n",
       "      <td>0.047607</td>\n",
       "      <td>-0.104903</td>\n",
       "      <td>0.084496</td>\n",
       "      <td>-0.800404</td>\n",
       "    </tr>\n",
       "    <tr>\n",
       "      <th>4</th>\n",
       "      <td>-0.603528</td>\n",
       "      <td>0.077316</td>\n",
       "      <td>0.087650</td>\n",
       "      <td>0.217709</td>\n",
       "      <td>-0.758088</td>\n",
       "    </tr>\n",
       "    <tr>\n",
       "      <th>...</th>\n",
       "      <td>...</td>\n",
       "      <td>...</td>\n",
       "      <td>...</td>\n",
       "      <td>...</td>\n",
       "      <td>...</td>\n",
       "    </tr>\n",
       "    <tr>\n",
       "      <th>75</th>\n",
       "      <td>0.231797</td>\n",
       "      <td>0.803299</td>\n",
       "      <td>0.091714</td>\n",
       "      <td>0.215936</td>\n",
       "      <td>-0.495925</td>\n",
       "    </tr>\n",
       "    <tr>\n",
       "      <th>76</th>\n",
       "      <td>0.388689</td>\n",
       "      <td>0.401395</td>\n",
       "      <td>0.165437</td>\n",
       "      <td>0.481770</td>\n",
       "      <td>-0.654471</td>\n",
       "    </tr>\n",
       "    <tr>\n",
       "      <th>77</th>\n",
       "      <td>-0.121543</td>\n",
       "      <td>-0.348609</td>\n",
       "      <td>-0.077263</td>\n",
       "      <td>-0.228691</td>\n",
       "      <td>0.897458</td>\n",
       "    </tr>\n",
       "    <tr>\n",
       "      <th>78</th>\n",
       "      <td>-0.040054</td>\n",
       "      <td>0.067348</td>\n",
       "      <td>-0.045395</td>\n",
       "      <td>0.686705</td>\n",
       "      <td>0.721273</td>\n",
       "    </tr>\n",
       "    <tr>\n",
       "      <th>79</th>\n",
       "      <td>-0.484028</td>\n",
       "      <td>0.549811</td>\n",
       "      <td>0.153534</td>\n",
       "      <td>-0.658060</td>\n",
       "      <td>-0.082517</td>\n",
       "    </tr>\n",
       "  </tbody>\n",
       "</table>\n",
       "<p>80 rows × 5 columns</p>\n",
       "</div>"
      ],
      "text/plain": [
       "           0         1         2         3         4\n",
       "0   0.397813 -0.238586 -0.095298  0.771969  0.424032\n",
       "1   0.513168 -0.005580 -0.062190 -0.272431 -0.811506\n",
       "2  -0.361775 -0.090618  0.079766 -0.494664 -0.780930\n",
       "3   0.582187  0.047607 -0.104903  0.084496 -0.800404\n",
       "4  -0.603528  0.077316  0.087650  0.217709 -0.758088\n",
       "..       ...       ...       ...       ...       ...\n",
       "75  0.231797  0.803299  0.091714  0.215936 -0.495925\n",
       "76  0.388689  0.401395  0.165437  0.481770 -0.654471\n",
       "77 -0.121543 -0.348609 -0.077263 -0.228691  0.897458\n",
       "78 -0.040054  0.067348 -0.045395  0.686705  0.721273\n",
       "79 -0.484028  0.549811  0.153534 -0.658060 -0.082517\n",
       "\n",
       "[80 rows x 5 columns]"
      ]
     },
     "execution_count": 13,
     "metadata": {},
     "output_type": "execute_result"
    }
   ],
   "source": [
    "# Normalize the data\n",
    "normalizer = Normalizer('l2')\n",
    "X_train11_norm = pd.DataFrame(normalizer.fit_transform(X_train11))\n",
    "X_test11_norm = pd.DataFrame(normalizer.transform(X_test11))\n",
    "  \n",
    "normalizer = Normalizer('l2')\n",
    "X_train12_norm = pd.DataFrame(normalizer.fit_transform(X_train12))\n",
    "X_test12_norm = pd.DataFrame(normalizer.transform(X_test12))\n",
    "\n",
    "normalizer = Normalizer('l2')\n",
    "X_train21_norm = pd.DataFrame(normalizer.fit_transform(X_train21))\n",
    "X_test21_norm = pd.DataFrame(normalizer.transform(X_test21))\n",
    "\n",
    "normalizer = Normalizer('l2')\n",
    "X_train22_norm = pd.DataFrame(normalizer.fit_transform(X_train22))\n",
    "X_test22_norm = pd.DataFrame(normalizer.transform(X_test22))\n",
    "\n",
    "normalizer = Normalizer('l2')\n",
    "X_train31_norm = pd.DataFrame(normalizer.fit_transform(X_train31))\n",
    "X_test31_norm = pd.DataFrame(normalizer.transform(X_test31))\n",
    "\n",
    "normalizer = Normalizer('l2')\n",
    "X_train32_norm = pd.DataFrame(normalizer.fit_transform(X_train32))\n",
    "X_test32_norm = pd.DataFrame(normalizer.transform(X_test32))\n",
    "\n",
    "X_train32_norm"
   ]
  },
  {
   "cell_type": "code",
   "execution_count": 14,
   "id": "e9de8aa0",
   "metadata": {},
   "outputs": [
    {
     "data": {
      "text/plain": [
       "Text(0.5, 1.0, 'Accuracy Score vs N')"
      ]
     },
     "execution_count": 14,
     "metadata": {},
     "output_type": "execute_result"
    },
    {
     "data": {
      "image/png": "[encoded data removed]",
      "text/plain": [
       "<Figure size 432x288 with 1 Axes>"
      ]
     },
     "metadata": {
      "needs_background": "light"
     },
     "output_type": "display_data"
    }
   ],
   "source": [
    "# NN Test\n",
    "N = 40\n",
    "accuracy_x1y1 = []\n",
    "accuracy_x2y1 = []\n",
    "accuracy_x3y1 = []\n",
    "accuracy_x1y2 = []\n",
    "accuracy_x2y2 = []\n",
    "accuracy_x3y2 = []\n",
    "for Ni in range(N):\n",
    "    x1y1_nn = neighbors.KNeighborsClassifier(Ni+1)\n",
    "    x1y1_nn.fit(X_train11_norm, y_train11)    \n",
    "    x1y1_predict = x1y1_nn.predict(X_test11_norm)\n",
    "    x1y1_accuracy_score = accuracy_score(y_test11,x1y1_predict)\n",
    "    \n",
    "    x2y1_nn = neighbors.KNeighborsClassifier(Ni+1)\n",
    "    x2y1_nn.fit(X_train21_norm, y_train21)\n",
    "    x2y1_predict = x2y1_nn.predict(X_test21_norm)\n",
    "    x2y1_accuracy_score = accuracy_score(y_test21,x2y1_predict)\n",
    "    \n",
    "    x3y1_nn = neighbors.KNeighborsClassifier(Ni+1)\n",
    "    x3y1_nn.fit(X_train31_norm, y_train31)\n",
    "    x3y1_predict = x3y1_nn.predict(X_test31_norm)\n",
    "    x3y1_accuracy_score = accuracy_score(y_test31,x3y1_predict)\n",
    "\n",
    "    x1y2_nn = neighbors.KNeighborsClassifier(Ni+1)\n",
    "    x1y2_nn.fit(X_train12_norm, y_train12)\n",
    "    x1y2_predict = x1y2_nn.predict(X_test12_norm)\n",
    "    x1y2_accuracy_score = accuracy_score(y_test12,x1y2_predict)\n",
    "    \n",
    "    x2y2_nn = neighbors.KNeighborsClassifier(Ni+1)\n",
    "    x2y2_nn.fit(X_train22_norm, y_train22)\n",
    "    x2y2_predict = x2y2_nn.predict(X_test22_norm)\n",
    "    x2y2_accuracy_score = accuracy_score(y_test22,x2y2_predict)\n",
    "    \n",
    "    x3y2_nn = neighbors.KNeighborsClassifier(Ni+1)\n",
    "    x3y2_nn.fit(X_train32_norm, y_train32)\n",
    "    x3y2_predict = x3y2_nn.predict(X_test32_norm)\n",
    "    x3y2_accuracy_score = accuracy_score(y_test32,x3y2_predict)    \n",
    "    \n",
    "    accuracy_x1y1.append(x1y1_accuracy_score)\n",
    "    accuracy_x2y1.append(x2y1_accuracy_score)\n",
    "    accuracy_x3y1.append(x3y1_accuracy_score)\n",
    "    accuracy_x1y2.append(x1y2_accuracy_score)\n",
    "    accuracy_x2y2.append(x2y2_accuracy_score)\n",
    "    accuracy_x3y2.append(x3y2_accuracy_score)\n",
    "    \n",
    "plt.figure()\n",
    "plt.plot(np.linspace(1,N+1,N),accuracy_x1y1,label=\"x1, y1\")\n",
    "plt.plot(np.linspace(1,N+1,N),accuracy_x2y1,label=\"x2, y1\")\n",
    "plt.plot(np.linspace(1,N+1,N),accuracy_x3y1,label=\"x3, y1\")\n",
    "plt.plot(np.linspace(1,N+1,N),accuracy_x1y2,label=\"x1, y2\")\n",
    "plt.plot(np.linspace(1,N+1,N),accuracy_x2y2,label=\"x2, y2\")\n",
    "plt.plot(np.linspace(1,N+1,N),accuracy_x3y2,label=\"x3, y2\")\n",
    "plt.legend(loc='upper right')\n",
    "plt.xlabel(\"N\")\n",
    "plt.ylabel(\"Accuracy Score\")\n",
    "plt.title(\"Accuracy Score vs N\")"
   ]
  },
  {
   "cell_type": "code",
   "execution_count": 20,
   "id": "444ff5d0",
   "metadata": {},
   "outputs": [
    {
     "name": "stdout",
     "output_type": "stream",
     "text": [
      "Predicted values using x1 and y1: [1 1 1 0 0 1 1 1 1 0 1 1 1 1 1 0 1 1 1 1]\n",
      "Expected values: [1 1 1 0 0 1 1 1 1 0 1 1 1 1 1 0 1 1 1 1]\n",
      "Resulting in an accuracy score of: 1.0 and f1 score of: 1.0 and AUC score of 1.0 \n",
      "\n"
     ]
    },
    {
     "data": {
      "image/png": "[encoded data removed]",
      "text/plain": [
       "<Figure size 432x288 with 2 Axes>"
      ]
     },
     "metadata": {
      "needs_background": "light"
     },
     "output_type": "display_data"
    },
    {
     "name": "stdout",
     "output_type": "stream",
     "text": [
      "Predicted values using x2 and y1: [1 1 1 0 1 1 1 1 1 0 1 1 1 1 1 0 1 1 1 1]\n",
      "Expected values: [1 1 1 0 0 1 1 1 1 0 1 1 1 1 1 0 1 1 1 1]\n",
      "Resulting in an accuracy score of: 0.95 and f1 score of: 0.9696969696969697 and AUC score of 0.875 \n",
      "\n"
     ]
    },
    {
     "data": {
      "image/png": "[encoded data removed]",
      "text/plain": [
       "<Figure size 432x288 with 2 Axes>"
      ]
     },
     "metadata": {
      "needs_background": "light"
     },
     "output_type": "display_data"
    },
    {
     "name": "stdout",
     "output_type": "stream",
     "text": [
      "Predicted values using x3 and y1: [1 1 1 1 1 1 1 1 1 1 1 1 1 1 1 1 1 1 1 1]\n",
      "Expected values: [1 1 1 0 0 1 1 1 1 0 1 1 1 1 1 0 1 1 1 1]\n",
      "Resulting in an accuracy score of: 0.8 and f1 score of: 0.888888888888889 and AUC score of 0.5 \n",
      "\n"
     ]
    },
    {
     "data": {
      "image/png": "[encoded data removed]",
      "text/plain": [
       "<Figure size 432x288 with 2 Axes>"
      ]
     },
     "metadata": {
      "needs_background": "light"
     },
     "output_type": "display_data"
    }
   ],
   "source": [
    "# Situation 1\n",
    "# x1 y1\n",
    "x1y1_nn = neighbors.KNeighborsClassifier(n_neighbors)\n",
    "x1y1_nn.fit(X_train11_norm, y_train11)\n",
    "\n",
    "x1y1_predict = x1y1_nn.predict(X_test11_norm)\n",
    "x1y1_accuracy_score = accuracy_score(y_test11,x1y1_predict)\n",
    "x1y1_f1_score = f1_score(y_test11,x1y1_predict)\n",
    "x1y1_AUC_score = roc_auc_score(y_test11,x1y1_predict)\n",
    "\n",
    "print(\"Predicted values using x1 and y1:\",x1y1_predict)\n",
    "print(\"Expected values:\",y_test11)\n",
    "print(\"Resulting in an accuracy score of:\",x1y1_accuracy_score,\"and f1 score of:\",x1y1_f1_score,\"and AUC score of\",x1y1_AUC_score,\"\\n\")\n",
    "plot_confusion_matrix(x1y1_nn,X_test11_norm,y_test11,cmap=plt.cm.Blues)\n",
    "plt.title(\"Confusion Matrix for nn Scenario 1\")\n",
    "plt.show()\n",
    "\n",
    "# x2 y1\n",
    "x2y1_nn = neighbors.KNeighborsClassifier(n_neighbors)\n",
    "x2y1_nn.fit(X_train21_norm, y_train21)\n",
    "\n",
    "x2y1_predict = x2y1_nn.predict(X_test21_norm)\n",
    "x2y1_accuracy_score = accuracy_score(y_test21,x2y1_predict)\n",
    "x2y1_f1_score = f1_score(y_test21,x2y1_predict) \n",
    "x2y1_AUC_score = roc_auc_score(y_test21,x2y1_predict)\n",
    "    \n",
    "print(\"Predicted values using x2 and y1:\",x2y1_predict)\n",
    "print(\"Expected values:\",y_test21)\n",
    "print(\"Resulting in an accuracy score of:\",x2y1_accuracy_score,\"and f1 score of:\",x2y1_f1_score,\"and AUC score of\",x2y1_AUC_score,\"\\n\")\n",
    "plot_confusion_matrix(x2y1_nn,X_test21_norm,y_test21,cmap=plt.cm.Blues)\n",
    "plt.title(\"Confusion Matrix for x2, y1\")\n",
    "plt.show()\n",
    "\n",
    "# x3 y1\n",
    "x3y1_nn = neighbors.KNeighborsClassifier(n_neighbors)\n",
    "x3y1_nn.fit(X_train31_norm, y_train31)\n",
    "\n",
    "x3y1_predict = x3y1_nn.predict(X_test31_norm)\n",
    "x3y1_accuracy_score = accuracy_score(y_test31,x3y1_predict)\n",
    "x3y1_f1_score = f1_score(y_test31,x3y1_predict)\n",
    "x3y1_AUC_score = roc_auc_score(y_test31,x3y1_predict)\n",
    "\n",
    "print(\"Predicted values using x3 and y1:\",x3y1_predict)\n",
    "print(\"Expected values:\",y_test31)\n",
    "print(\"Resulting in an accuracy score of:\",x3y1_accuracy_score,\"and f1 score of:\",x3y1_f1_score,\"and AUC score of\",x3y1_AUC_score,\"\\n\")\n",
    "plot_confusion_matrix(x3y1_nn,X_test31_norm,y_test31,cmap=plt.cm.Blues)\n",
    "plt.title(\"Confusion Matrix for x3, y1\")\n",
    "plt.show()"
   ]
  },
  {
   "cell_type": "code",
   "execution_count": 21,
   "id": "cb890844",
   "metadata": {},
   "outputs": [
    {
     "name": "stdout",
     "output_type": "stream",
     "text": [
      "Predicted values using x1 and y2: [2 0 4 0 0 1 4 2 2 0 2 2 1 4 2 0 1 4 4 4]\n",
      "Expected values: [1 1 2 0 0 3 1 3 4 0 3 2 3 3 2 0 2 4 3 3]\n",
      "Resulting in an accuracy score of: 0.35 and f1 score of: 0.3077777777777778 and AUC score of 0.7011904761904761 \n",
      "\n"
     ]
    },
    {
     "data": {
      "image/png": "[encoded data removed]",
      "text/plain": [
       "<Figure size 432x288 with 2 Axes>"
      ]
     },
     "metadata": {
      "needs_background": "light"
     },
     "output_type": "display_data"
    },
    {
     "name": "stdout",
     "output_type": "stream",
     "text": [
      "Predicted values using x2 and y2: [4 0 4 0 0 1 4 2 2 0 2 2 1 4 2 0 1 4 4 4]\n",
      "Expected values: [1 1 2 0 0 3 1 3 4 0 3 2 3 3 2 0 2 4 3 3]\n",
      "Resulting in an accuracy score of: 0.35 and f1 score of: 0.31111111111111117 and AUC score of 0.6738095238095239 \n",
      "\n"
     ]
    },
    {
     "data": {
      "image/png": "[encoded data removed]",
      "text/plain": [
       "<Figure size 432x288 with 2 Axes>"
      ]
     },
     "metadata": {
      "needs_background": "light"
     },
     "output_type": "display_data"
    },
    {
     "name": "stdout",
     "output_type": "stream",
     "text": [
      "Predicted values using x3 and y2: [1 1 2 0 0 3 1 0 4 0 0 2 3 3 2 2 2 0 3 3]\n",
      "Expected values: [1 1 2 0 0 3 1 3 4 0 3 2 3 3 2 0 2 4 3 3]\n",
      "Resulting in an accuracy score of: 0.8 and f1 score of: 0.7977777777777777 and AUC score of 0.8505952380952382 \n",
      "\n"
     ]
    },
    {
     "data": {
      "image/png": "[encoded data removed]",
      "text/plain": [
       "<Figure size 432x288 with 2 Axes>"
      ]
     },
     "metadata": {
      "needs_background": "light"
     },
     "output_type": "display_data"
    }
   ],
   "source": [
    "# Situation 2\n",
    "# x1 y2\n",
    "x1y2_nn = neighbors.KNeighborsClassifier(n_neighbors)\n",
    "x1y2_nn.fit(X_train12_norm, y_train12)\n",
    "\n",
    "x1y2_predict = x1y2_nn.predict(X_test12_norm)\n",
    "x1y2_accuracy_score = accuracy_score(y_test12,x1y2_predict)\n",
    "x1y2_f1_score = f1_score(y_test12,x1y2_predict,average='macro')\n",
    "x1y2_y_prob = x1y2_nn.predict_proba(X_test12_norm)\n",
    "x1y2_AUC_score = roc_auc_score(y_test12,x1y2_y_prob,multi_class=\"ovo\",average='macro')\n",
    "\n",
    "print(\"Predicted values using x1 and y2:\",x1y2_predict)\n",
    "print(\"Expected values:\",y_test12)\n",
    "print(\"Resulting in an accuracy score of:\",x1y2_accuracy_score,\"and f1 score of:\",x1y2_f1_score,\"and AUC score of\",x1y2_AUC_score,\"\\n\")\n",
    "plot_confusion_matrix(x1y2_nn,X_test12_norm,y_test12,cmap=plt.cm.Blues)\n",
    "plt.title(\"Confusion Matrix for x1, y2\")\n",
    "plt.show()\n",
    "\n",
    "# x2 y2\n",
    "x2y2_nn = neighbors.KNeighborsClassifier(n_neighbors)\n",
    "x2y2_nn.fit(X_train22_norm, y_train22)\n",
    "\n",
    "x2y2_predict = x2y2_nn.predict(X_test22_norm)\n",
    "x2y2_accuracy_score = accuracy_score(y_test22,x2y2_predict)\n",
    "x2y2_f1_score = f1_score(y_test22,x2y2_predict,average='macro')\n",
    "x2y2_y_prob = x2y2_nn.predict_proba(X_test22_norm)\n",
    "x2y2_AUC_score = roc_auc_score(y_test22,x2y2_y_prob,multi_class=\"ovo\",average='macro')\n",
    "    \n",
    "print(\"Predicted values using x2 and y2:\",x2y2_predict)\n",
    "print(\"Expected values:\",y_test22)\n",
    "print(\"Resulting in an accuracy score of:\",x2y2_accuracy_score,\"and f1 score of:\",x2y2_f1_score,\"and AUC score of\",x2y2_AUC_score,\"\\n\")\n",
    "plot_confusion_matrix(x2y2_nn,X_test22_norm,y_test22,cmap=plt.cm.Blues)\n",
    "plt.title(\"Confusion Matrix for x2, y2\")\n",
    "plt.show()\n",
    "\n",
    "# x3 y2\n",
    "x3y2_nn = neighbors.KNeighborsClassifier(n_neighbors)\n",
    "x3y2_nn.fit(X_train32_norm, y_train32)\n",
    "\n",
    "x3y2_predict = x3y2_nn.predict(X_test32_norm)\n",
    "x3y2_accuracy_score = accuracy_score(y_test32,x3y2_predict)\n",
    "x3y2_f1_score = f1_score(y_test32,x3y2_predict,average='macro')\n",
    "x3y2_y_prob = x3y2_nn.predict_proba(X_test32_norm)\n",
    "x3y2_AUC_score = roc_auc_score(y_test32,x3y2_y_prob,multi_class=\"ovo\",average='macro')\n",
    "\n",
    "print(\"Predicted values using x3 and y2:\",x3y2_predict)\n",
    "print(\"Expected values:\",y_test32)\n",
    "print(\"Resulting in an accuracy score of:\",x3y2_accuracy_score,\"and f1 score of:\",x3y2_f1_score,\"and AUC score of\",x3y2_AUC_score,\"\\n\")\n",
    "plot_confusion_matrix(x3y2_nn,X_test32_norm,y_test32,cmap=plt.cm.Blues)\n",
    "plt.title(\"Confusion Matrix for nn Scenario 2\")\n",
    "plt.show()"
   ]
  },
  {
   "cell_type": "markdown",
   "id": "2c58a7c2",
   "metadata": {},
   "source": [
    "## Z Score Scaling"
   ]
  },
  {
   "cell_type": "code",
   "execution_count": 15,
   "id": "af97d6c1",
   "metadata": {},
   "outputs": [],
   "source": [
    "# Scaling\n",
    "scaler = StandardScaler()\n",
    "X_train11_z = scaler.fit_transform(X_train11)\n",
    "X_test11_z = scaler.transform(X_test11)\n",
    "\n",
    "scaler = StandardScaler()\n",
    "X_train21_z = scaler.fit_transform(X_train21)\n",
    "X_test21_z = scaler.transform(X_test21)\n",
    "\n",
    "scaler = StandardScaler()\n",
    "X_train31_z = scaler.fit_transform(X_train31)\n",
    "X_test31_z = scaler.transform(X_test31)\n",
    "\n",
    "scaler = StandardScaler()\n",
    "X_train12_z = scaler.fit_transform(X_train12)\n",
    "X_test12_z = scaler.transform(X_test12)\n",
    "\n",
    "scaler = StandardScaler()\n",
    "X_train22_z = scaler.fit_transform(X_train22)\n",
    "X_test22_z = scaler.transform(X_test22)\n",
    "\n",
    "scaler = StandardScaler()\n",
    "X_train32_z = scaler.fit_transform(X_train32)\n",
    "X_test32_z = scaler.transform(X_test32)"
   ]
  },
  {
   "cell_type": "code",
   "execution_count": 16,
   "id": "b0527813",
   "metadata": {},
   "outputs": [
    {
     "data": {
      "text/plain": [
       "Text(0.5, 1.0, 'Accuracy Score vs N')"
      ]
     },
     "execution_count": 16,
     "metadata": {},
     "output_type": "execute_result"
    },
    {
     "data": {
      "image/png": "[encoded data removed]",
      "text/plain": [
       "<Figure size 432x288 with 1 Axes>"
      ]
     },
     "metadata": {
      "needs_background": "light"
     },
     "output_type": "display_data"
    }
   ],
   "source": [
    "# NN Test\n",
    "N = 40\n",
    "accuracy_x1y1 = []\n",
    "accuracy_x2y1 = []\n",
    "accuracy_x3y1 = []\n",
    "accuracy_x1y2 = []\n",
    "accuracy_x2y2 = []\n",
    "accuracy_x3y2 = []\n",
    "for Ni in range(N):\n",
    "    x1y1_nn = neighbors.KNeighborsClassifier(Ni+1)\n",
    "    x1y1_nn.fit(X_train11_z, y_train11)    \n",
    "    x1y1_predict = x1y1_nn.predict(X_test11_z)\n",
    "    x1y1_accuracy_score = accuracy_score(y_test11,x1y1_predict)\n",
    "    \n",
    "    x2y1_nn = neighbors.KNeighborsClassifier(Ni+1)\n",
    "    x2y1_nn.fit(X_train21_z, y_train21)\n",
    "    x2y1_predict = x2y1_nn.predict(X_test21_z)\n",
    "    x2y1_accuracy_score = accuracy_score(y_test21,x2y1_predict)\n",
    "    \n",
    "    x3y1_nn = neighbors.KNeighborsClassifier(Ni+1)\n",
    "    x3y1_nn.fit(X_train31_z, y_train31)\n",
    "    x3y1_predict = x3y1_nn.predict(X_test31_z)\n",
    "    x3y1_accuracy_score = accuracy_score(y_test31,x3y1_predict)\n",
    "\n",
    "    x1y2_nn = neighbors.KNeighborsClassifier(Ni+1)\n",
    "    x1y2_nn.fit(X_train12_z, y_train12)\n",
    "    x1y2_predict = x1y2_nn.predict(X_test12_z)\n",
    "    x1y2_accuracy_score = accuracy_score(y_test12,x1y2_predict)\n",
    "    \n",
    "    x2y2_nn = neighbors.KNeighborsClassifier(Ni+1)\n",
    "    x2y2_nn.fit(X_train22_z, y_train22)\n",
    "    x2y2_predict = x2y2_nn.predict(X_test22_z)\n",
    "    x2y2_accuracy_score = accuracy_score(y_test22,x2y2_predict)\n",
    "    \n",
    "    x3y2_nn = neighbors.KNeighborsClassifier(Ni+1)\n",
    "    x3y2_nn.fit(X_train32_z, y_train32)\n",
    "    x3y2_predict = x3y2_nn.predict(X_test32_z)\n",
    "    x3y2_accuracy_score = accuracy_score(y_test32,x3y2_predict)    \n",
    "    \n",
    "    accuracy_x1y1.append(x1y1_accuracy_score)\n",
    "    accuracy_x2y1.append(x2y1_accuracy_score)\n",
    "    accuracy_x3y1.append(x3y1_accuracy_score)\n",
    "    accuracy_x1y2.append(x1y2_accuracy_score)\n",
    "    accuracy_x2y2.append(x2y2_accuracy_score)\n",
    "    accuracy_x3y2.append(x3y2_accuracy_score)\n",
    "    \n",
    "plt.figure()\n",
    "plt.plot(np.linspace(1,N+1,N),accuracy_x1y1,label=\"x1, y1\")\n",
    "plt.plot(np.linspace(1,N+1,N),accuracy_x2y1,label=\"x2, y1\")\n",
    "plt.plot(np.linspace(1,N+1,N),accuracy_x3y1,label=\"x3, y1\")\n",
    "plt.plot(np.linspace(1,N+1,N),accuracy_x1y2,label=\"x1, y2\")\n",
    "plt.plot(np.linspace(1,N+1,N),accuracy_x2y2,label=\"x2, y2\")\n",
    "plt.plot(np.linspace(1,N+1,N),accuracy_x3y2,label=\"x3, y2\")\n",
    "plt.legend(loc='upper right')\n",
    "plt.xlabel(\"N\")\n",
    "plt.ylabel(\"Accuracy Score\")\n",
    "plt.title(\"Accuracy Score vs N\")"
   ]
  },
  {
   "cell_type": "code",
   "execution_count": 20,
   "id": "6b5995f2",
   "metadata": {},
   "outputs": [
    {
     "name": "stdout",
     "output_type": "stream",
     "text": [
      "Predicted values using x1 and y1: [1 1 1 0 0 1 1 1 1 0 1 1 1 1 1 0 1 1 1 1]\n",
      "Expected values: [1 1 1 0 0 1 1 1 1 0 1 1 1 1 1 0 1 1 1 1]\n",
      "Resulting in an accuracy score of: 1.0 and f1 score of: 1.0 and AUC score of 1.0 \n",
      "\n"
     ]
    },
    {
     "data": {
      "image/png": "[encoded data removed]",
      "text/plain": [
       "<Figure size 432x288 with 2 Axes>"
      ]
     },
     "metadata": {
      "needs_background": "light"
     },
     "output_type": "display_data"
    },
    {
     "name": "stdout",
     "output_type": "stream",
     "text": [
      "Predicted values using x2 and y1: [1 1 1 0 0 1 1 1 1 0 1 1 1 1 1 0 1 1 1 1]\n",
      "Expected values: [1 1 1 0 0 1 1 1 1 0 1 1 1 1 1 0 1 1 1 1]\n",
      "Resulting in an accuracy score of: 1.0 and f1 score of: 1.0 and AUC score of 1.0 \n",
      "\n"
     ]
    },
    {
     "data": {
      "image/png": "[encoded data removed]",
      "text/plain": [
       "<Figure size 432x288 with 2 Axes>"
      ]
     },
     "metadata": {
      "needs_background": "light"
     },
     "output_type": "display_data"
    },
    {
     "name": "stdout",
     "output_type": "stream",
     "text": [
      "Predicted values using x3 and y1: [1 1 1 0 0 0 1 0 0 0 0 1 1 1 1 1 1 0 0 1]\n",
      "Expected values: [1 1 1 0 0 1 1 1 1 0 1 1 1 1 1 0 1 1 1 1]\n",
      "Resulting in an accuracy score of: 0.65 and f1 score of: 0.7407407407407406 and AUC score of 0.6875 \n",
      "\n"
     ]
    },
    {
     "data": {
      "image/png": "[encoded data removed]",
      "text/plain": [
       "<Figure size 432x288 with 2 Axes>"
      ]
     },
     "metadata": {
      "needs_background": "light"
     },
     "output_type": "display_data"
    }
   ],
   "source": [
    "# Situation 1\n",
    "n_neighbors = 4\n",
    "# x1 y1\n",
    "x1y1_nn = neighbors.KNeighborsClassifier(n_neighbors)\n",
    "x1y1_nn.fit(X_train11_z, y_train11)\n",
    "\n",
    "x1y1_predict = x1y1_nn.predict(X_test11_z)\n",
    "x1y1_accuracy_score = accuracy_score(y_test11,x1y1_predict)\n",
    "x1y1_f1_score = f1_score(y_test11,x1y1_predict)\n",
    "x1y1_AUC_score = roc_auc_score(y_test11,x1y1_predict)\n",
    "\n",
    "print(\"Predicted values using x1 and y1:\",x1y1_predict)\n",
    "print(\"Expected values:\",y_test11)\n",
    "print(\"Resulting in an accuracy score of:\",x1y1_accuracy_score,\"and f1 score of:\",x1y1_f1_score,\"and AUC score of\",x1y1_AUC_score,\"\\n\")\n",
    "plot_confusion_matrix(x1y1_nn,X_test11_z,y_test11,cmap=plt.cm.Blues)\n",
    "plt.title(\"Confusion Matrix for x1, y1\")\n",
    "plt.show()\n",
    "\n",
    "# x2 y1\n",
    "x2y1_nn = neighbors.KNeighborsClassifier(n_neighbors)\n",
    "x2y1_nn.fit(X_train21_z, y_train21)\n",
    "\n",
    "x2y1_predict = x2y1_nn.predict(X_test21_z)\n",
    "x2y1_accuracy_score = accuracy_score(y_test21,x2y1_predict)\n",
    "x2y1_f1_score = f1_score(y_test21,x2y1_predict) \n",
    "x2y1_AUC_score = roc_auc_score(y_test21,x2y1_predict)\n",
    "    \n",
    "print(\"Predicted values using x2 and y1:\",x2y1_predict)\n",
    "print(\"Expected values:\",y_test21)\n",
    "print(\"Resulting in an accuracy score of:\",x2y1_accuracy_score,\"and f1 score of:\",x2y1_f1_score,\"and AUC score of\",x2y1_AUC_score,\"\\n\")\n",
    "plot_confusion_matrix(x2y1_nn,X_test21_z,y_test21,cmap=plt.cm.Blues)\n",
    "plt.title(\"Confusion Matrix for x2, y1\")\n",
    "plt.show()\n",
    "\n",
    "# x3 y1\n",
    "x3y1_nn = neighbors.KNeighborsClassifier(n_neighbors)\n",
    "x3y1_nn.fit(X_train31_z, y_train31)\n",
    "\n",
    "x3y1_predict = x3y1_nn.predict(X_test31_z)\n",
    "x3y1_accuracy_score = accuracy_score(y_test31,x3y1_predict)\n",
    "x3y1_f1_score = f1_score(y_test31,x3y1_predict)\n",
    "x3y1_AUC_score = roc_auc_score(y_test31,x3y1_predict)\n",
    "\n",
    "print(\"Predicted values using x3 and y1:\",x3y1_predict)\n",
    "print(\"Expected values:\",y_test31)\n",
    "print(\"Resulting in an accuracy score of:\",x3y1_accuracy_score,\"and f1 score of:\",x3y1_f1_score,\"and AUC score of\",x3y1_AUC_score,\"\\n\")\n",
    "plot_confusion_matrix(x3y1_nn,X_test31_z,y_test31,cmap=plt.cm.Blues)\n",
    "plt.title(\"Confusion Matrix for x3, y1\")\n",
    "plt.show()"
   ]
  },
  {
   "cell_type": "code",
   "execution_count": 22,
   "id": "bc47cf98",
   "metadata": {},
   "outputs": [
    {
     "name": "stdout",
     "output_type": "stream",
     "text": [
      "Predicted values using x1 and y2: [1 1 2 0 0 3 1 1 3 0 3 2 3 2 2 0 2 1 3 4]\n",
      "Expected values: [1 1 2 0 0 3 1 3 4 0 3 2 3 3 2 0 2 4 3 3]\n",
      "Resulting in an accuracy score of: 0.75 and f1 score of: 0.6611111111111111 and AUC score of 0.9101190476190476 \n",
      "\n"
     ]
    },
    {
     "data": {
      "image/png": "[encoded data removed]",
      "text/plain": [
       "<Figure size 432x288 with 2 Axes>"
      ]
     },
     "metadata": {
      "needs_background": "light"
     },
     "output_type": "display_data"
    },
    {
     "name": "stdout",
     "output_type": "stream",
     "text": [
      "Predicted values using x2 and y2: [2 3 1 0 0 2 1 1 2 0 2 4 1 1 4 0 3 4 2 4]\n",
      "Expected values: [1 1 2 0 0 3 1 3 4 0 3 2 3 3 2 0 2 4 3 3]\n",
      "Resulting in an accuracy score of: 0.3 and f1 score of: 0.31666666666666665 and AUC score of 0.65 \n",
      "\n"
     ]
    },
    {
     "data": {
      "image/png": "[encoded data removed]",
      "text/plain": [
       "<Figure size 432x288 with 2 Axes>"
      ]
     },
     "metadata": {
      "needs_background": "light"
     },
     "output_type": "display_data"
    },
    {
     "name": "stdout",
     "output_type": "stream",
     "text": [
      "Predicted values using x3 and y2: [1 1 1 0 0 0 1 0 0 0 0 2 3 2 3 0 2 0 0 3]\n",
      "Expected values: [1 1 2 0 0 3 1 3 4 0 3 2 3 3 2 0 2 4 3 3]\n",
      "Resulting in an accuracy score of: 0.55 and f1 score of: 0.48 and AUC score of 0.7870535714285715 \n",
      "\n"
     ]
    },
    {
     "data": {
      "image/png": "[encoded data removed]",
      "text/plain": [
       "<Figure size 432x288 with 2 Axes>"
      ]
     },
     "metadata": {
      "needs_background": "light"
     },
     "output_type": "display_data"
    }
   ],
   "source": [
    "# Situation 2\n",
    "n_neighbors = 4\n",
    "# x1 y2\n",
    "x1y2_nn = neighbors.KNeighborsClassifier(n_neighbors)\n",
    "x1y2_nn.fit(X_train12_z, y_train12)\n",
    "\n",
    "x1y2_predict = x1y2_nn.predict(X_test12_z)\n",
    "x1y2_accuracy_score = accuracy_score(y_test12,x1y2_predict)\n",
    "x1y2_f1_score = f1_score(y_test12,x1y2_predict,average='macro')\n",
    "x1y2_y_prob = x1y2_nn.predict_proba(X_test12_z)\n",
    "x1y2_AUC_score = roc_auc_score(y_test12,x1y2_y_prob,multi_class=\"ovo\",average='macro')\n",
    "\n",
    "print(\"Predicted values using x1 and y2:\",x1y2_predict)\n",
    "print(\"Expected values:\",y_test12)\n",
    "print(\"Resulting in an accuracy score of:\",x1y2_accuracy_score,\"and f1 score of:\",x1y2_f1_score,\"and AUC score of\",x1y2_AUC_score,\"\\n\")\n",
    "plot_confusion_matrix(x1y2_nn,X_test12_z,y_test12,cmap=plt.cm.Blues)\n",
    "plt.title(\"Confusion Matrix for KNN Scenario 2\")\n",
    "plt.show()\n",
    "\n",
    "# x2 y2\n",
    "x2y2_nn = neighbors.KNeighborsClassifier(n_neighbors)\n",
    "x2y2_nn.fit(X_train22_z, y_train22)\n",
    "\n",
    "x2y2_predict = x2y2_nn.predict(X_test22_z)\n",
    "x2y2_accuracy_score = accuracy_score(y_test22,x2y2_predict)\n",
    "x2y2_f1_score = f1_score(y_test22,x2y2_predict,average='macro')\n",
    "x2y2_y_prob = x2y2_nn.predict_proba(X_test22_z)\n",
    "x2y2_AUC_score = roc_auc_score(y_test22,x2y2_y_prob,multi_class=\"ovo\",average='macro')\n",
    "    \n",
    "print(\"Predicted values using x2 and y2:\",x2y2_predict)\n",
    "print(\"Expected values:\",y_test22)\n",
    "print(\"Resulting in an accuracy score of:\",x2y2_accuracy_score,\"and f1 score of:\",x2y2_f1_score,\"and AUC score of\",x2y2_AUC_score,\"\\n\")\n",
    "plot_confusion_matrix(x2y2_nn,X_test22_z,y_test22,cmap=plt.cm.Blues)\n",
    "plt.title(\"Confusion Matrix for x2, y2\")\n",
    "plt.show()\n",
    "\n",
    "# x3 y2\n",
    "x3y2_nn = neighbors.KNeighborsClassifier(n_neighbors)\n",
    "x3y2_nn.fit(X_train32_z, y_train32)\n",
    "\n",
    "x3y2_predict = x3y2_nn.predict(X_test32_z)\n",
    "x3y2_accuracy_score = accuracy_score(y_test32,x3y2_predict)\n",
    "x3y2_f1_score = f1_score(y_test32,x3y2_predict,average='macro')\n",
    "x3y2_y_prob = x3y2_nn.predict_proba(X_test32_z)\n",
    "x3y2_AUC_score = roc_auc_score(y_test32,x3y2_y_prob,multi_class=\"ovo\",average='macro')\n",
    "\n",
    "print(\"Predicted values using x3 and y2:\",x3y2_predict)\n",
    "print(\"Expected values:\",y_test32)\n",
    "print(\"Resulting in an accuracy score of:\",x3y2_accuracy_score,\"and f1 score of:\",x3y2_f1_score,\"and AUC score of\",x3y2_AUC_score,\"\\n\")\n",
    "plot_confusion_matrix(x3y2_nn,X_test32_z,y_test32,cmap=plt.cm.Blues)\n",
    "plt.title(\"Confusion Matrix for x3, y2\")\n",
    "plt.show()"
   ]
  },
  {
   "cell_type": "markdown",
   "id": "72d82e07",
   "metadata": {},
   "source": [
    "## PCS"
   ]
  },
  {
   "cell_type": "code",
   "execution_count": 18,
   "id": "780ff6c5",
   "metadata": {},
   "outputs": [
    {
     "data": {
      "text/plain": [
       "array([[ 8.37659537e+00, -1.16080732e+01,  7.95487810e+00, ...,\n",
       "        -1.34124936e-03, -5.65870716e-03, -7.24118352e-03],\n",
       "       [ 4.87317662e+01, -9.99852623e+00, -5.34152127e+00, ...,\n",
       "        -7.09420798e-04, -1.15699969e-04,  8.88687730e-03],\n",
       "       [-1.57985831e+01,  2.50768193e+00,  2.78375561e-02, ...,\n",
       "         1.16349860e-02,  1.73482187e-02, -6.76086863e-03],\n",
       "       ...,\n",
       "       [ 5.52037369e+01, -9.04275557e+00, -4.27233908e+00, ...,\n",
       "        -3.99463833e-03,  4.18074437e-03, -1.65960319e-03],\n",
       "       [-2.32143736e+01, -8.27094459e+00, -3.85431951e+00, ...,\n",
       "        -6.20281396e-03, -1.76908111e-03,  8.01055891e-03],\n",
       "       [ 9.05585377e+00,  8.16018500e+00,  1.92691506e-01, ...,\n",
       "         1.01637411e-02, -1.36464649e-02,  4.23947310e-03]])"
      ]
     },
     "execution_count": 18,
     "metadata": {},
     "output_type": "execute_result"
    }
   ],
   "source": [
    "# PCA\n",
    "pca = PCA()\n",
    "X_train11_PCS = pca.fit_transform(X_train11)\n",
    "X_test11_PCS = pca.transform(X_test11)\n",
    "\n",
    "pca = PCA()\n",
    "X_train21_PCS = pca.fit_transform(X_train21)\n",
    "X_test21_PCS = pca.transform(X_test21)\n",
    "\n",
    "pca = PCA()\n",
    "X_train31_PCS = pca.fit_transform(X_train31)\n",
    "X_test31_PCS = pca.transform(X_test31)\n",
    "\n",
    "pca = PCA()\n",
    "X_train12_PCS = pca.fit_transform(X_train12)\n",
    "X_test12_PCS = pca.transform(X_test12)\n",
    "\n",
    "pca = PCA()\n",
    "X_train22_PCS = pca.fit_transform(X_train22)\n",
    "X_test22_PCS = pca.transform(X_test22)\n",
    "\n",
    "pca = PCA()\n",
    "X_train32_PCS = pca.fit_transform(X_train32)\n",
    "X_test32_PCS =pca.transform(X_test32)\n",
    "\n",
    "X_train11_PCS"
   ]
  },
  {
   "cell_type": "code",
   "execution_count": 19,
   "id": "b089ad1d",
   "metadata": {},
   "outputs": [
    {
     "data": {
      "text/plain": [
       "Text(0.5, 1.0, 'Accuracy Score vs N')"
      ]
     },
     "execution_count": 19,
     "metadata": {},
     "output_type": "execute_result"
    },
    {
     "data": {
      "image/png": "[encoded data removed]",
      "text/plain": [
       "<Figure size 432x288 with 1 Axes>"
      ]
     },
     "metadata": {
      "needs_background": "light"
     },
     "output_type": "display_data"
    }
   ],
   "source": [
    "# NN Test\n",
    "N = 40\n",
    "accuracy_x1y1 = []\n",
    "accuracy_x2y1 = []\n",
    "accuracy_x3y1 = []\n",
    "accuracy_x1y2 = []\n",
    "accuracy_x2y2 = []\n",
    "accuracy_x3y2 = []\n",
    "for Ni in range(N):\n",
    "    x1y1_nn = neighbors.KNeighborsClassifier(Ni+1)\n",
    "    x1y1_nn.fit(X_train11_PCS, y_train11)    \n",
    "    x1y1_predict = x1y1_nn.predict(X_test11_PCS)\n",
    "    x1y1_accuracy_score = accuracy_score(y_test11,x1y1_predict)\n",
    "    \n",
    "    x2y1_nn = neighbors.KNeighborsClassifier(Ni+1)\n",
    "    x2y1_nn.fit(X_train21_PCS, y_train21)\n",
    "    x2y1_predict = x2y1_nn.predict(X_test21_PCS)\n",
    "    x2y1_accuracy_score = accuracy_score(y_test21,x2y1_predict)\n",
    "    \n",
    "    x3y1_nn = neighbors.KNeighborsClassifier(Ni+1)\n",
    "    x3y1_nn.fit(X_train31_PCS, y_train31)\n",
    "    x3y1_predict = x3y1_nn.predict(X_test31_PCS)\n",
    "    x3y1_accuracy_score = accuracy_score(y_test31,x3y1_predict)\n",
    "\n",
    "    x1y2_nn = neighbors.KNeighborsClassifier(Ni+1)\n",
    "    x1y2_nn.fit(X_train12_PCS, y_train12)\n",
    "    x1y2_predict = x1y2_nn.predict(X_test12_PCS)\n",
    "    x1y2_accuracy_score = accuracy_score(y_test12,x1y2_predict)\n",
    "    \n",
    "    x2y2_nn = neighbors.KNeighborsClassifier(Ni+1)\n",
    "    x2y2_nn.fit(X_train22_PCS, y_train22)\n",
    "    x2y2_predict = x2y2_nn.predict(X_test22_PCS)\n",
    "    x2y2_accuracy_score = accuracy_score(y_test22,x2y2_predict)\n",
    "    \n",
    "    x3y2_nn = neighbors.KNeighborsClassifier(Ni+1)\n",
    "    x3y2_nn.fit(X_train32_PCS, y_train32)\n",
    "    x3y2_predict = x3y2_nn.predict(X_test32_PCS)\n",
    "    x3y2_accuracy_score = accuracy_score(y_test32,x3y2_predict)    \n",
    "    \n",
    "    accuracy_x1y1.append(x1y1_accuracy_score)\n",
    "    accuracy_x2y1.append(x2y1_accuracy_score)\n",
    "    accuracy_x3y1.append(x3y1_accuracy_score)\n",
    "    accuracy_x1y2.append(x1y2_accuracy_score)\n",
    "    accuracy_x2y2.append(x2y2_accuracy_score)\n",
    "    accuracy_x3y2.append(x3y2_accuracy_score)\n",
    "    \n",
    "plt.figure()\n",
    "plt.plot(np.linspace(1,N+1,N),accuracy_x1y1,label=\"x1, y1\")\n",
    "plt.plot(np.linspace(1,N+1,N),accuracy_x2y1,label=\"x2, y1\")\n",
    "plt.plot(np.linspace(1,N+1,N),accuracy_x3y1,label=\"x3, y1\")\n",
    "plt.plot(np.linspace(1,N+1,N),accuracy_x1y2,label=\"x1, y2\")\n",
    "plt.plot(np.linspace(1,N+1,N),accuracy_x2y2,label=\"x2, y2\")\n",
    "plt.plot(np.linspace(1,N+1,N),accuracy_x3y2,label=\"x3, y2\")\n",
    "plt.legend(loc='upper right')\n",
    "plt.xlabel(\"N\")\n",
    "plt.ylabel(\"Accuracy Score\")\n",
    "plt.title(\"Accuracy Score vs N\")"
   ]
  },
  {
   "cell_type": "code",
   "execution_count": 18,
   "id": "13554454",
   "metadata": {},
   "outputs": [
    {
     "name": "stdout",
     "output_type": "stream",
     "text": [
      "Predicted values using x1 and y1: [1 1 1 0 0 1 1 1 1 0 1 1 1 1 1 0 1 1 1 1]\n",
      "Expected values: [1 1 1 0 0 1 1 1 1 0 1 1 1 1 1 0 1 1 1 1]\n",
      "Resulting in an accuracy score of: 1.0 and f1 score of: 1.0 and AUC score of 1.0 \n",
      "\n"
     ]
    },
    {
     "data": {
      "image/png": "[encoded data removed]",
      "text/plain": [
       "<Figure size 432x288 with 2 Axes>"
      ]
     },
     "metadata": {
      "needs_background": "light"
     },
     "output_type": "display_data"
    },
    {
     "name": "stdout",
     "output_type": "stream",
     "text": [
      "Predicted values using x2 and y1: [1 1 1 0 0 1 1 1 1 0 1 1 1 1 1 0 1 1 1 1]\n",
      "Expected values: [1 1 1 0 0 1 1 1 1 0 1 1 1 1 1 0 1 1 1 1]\n",
      "Resulting in an accuracy score of: 1.0 and f1 score of: 1.0 and AUC score of 1.0 \n",
      "\n"
     ]
    },
    {
     "data": {
      "image/png": "[encoded data removed]",
      "text/plain": [
       "<Figure size 432x288 with 2 Axes>"
      ]
     },
     "metadata": {
      "needs_background": "light"
     },
     "output_type": "display_data"
    },
    {
     "name": "stdout",
     "output_type": "stream",
     "text": [
      "Predicted values using x3 and y1: [1 1 1 0 1 1 1 1 1 1 1 1 1 1 1 1 1 1 1 1]\n",
      "Expected values: [1 1 1 0 0 1 1 1 1 0 1 1 1 1 1 0 1 1 1 1]\n",
      "Resulting in an accuracy score of: 0.85 and f1 score of: 0.9142857142857143 and AUC score of 0.625 \n",
      "\n"
     ]
    },
    {
     "data": {
      "image/png": "[encoded data removed]",
      "text/plain": [
       "<Figure size 432x288 with 2 Axes>"
      ]
     },
     "metadata": {
      "needs_background": "light"
     },
     "output_type": "display_data"
    }
   ],
   "source": [
    "# Situation 1\n",
    "# x1 y1\n",
    "x1y1_nn = neighbors.KNeighborsClassifier(n_neighbors)\n",
    "x1y1_nn.fit(X_train11_PCS, y_train11)\n",
    "\n",
    "x1y1_predict = x1y1_nn.predict(X_test11_PCS)\n",
    "x1y1_accuracy_score = accuracy_score(y_test11,x1y1_predict)\n",
    "x1y1_f1_score = f1_score(y_test11,x1y1_predict)\n",
    "x1y1_AUC_score = roc_auc_score(y_test11,x1y1_predict)\n",
    "\n",
    "print(\"Predicted values using x1 and y1:\",x1y1_predict)\n",
    "print(\"Expected values:\",y_test11)\n",
    "print(\"Resulting in an accuracy score of:\",x1y1_accuracy_score,\"and f1 score of:\",x1y1_f1_score,\"and AUC score of\",x1y1_AUC_score,\"\\n\")\n",
    "plot_confusion_matrix(x1y1_nn,X_test11_PCS,y_test11,cmap=plt.cm.Blues)\n",
    "plt.title(\"Confusion Matrix for x1, y1\")\n",
    "plt.show()\n",
    "\n",
    "# x2 y1\n",
    "x2y1_nn = neighbors.KNeighborsClassifier(n_neighbors)\n",
    "x2y1_nn.fit(X_train21_PCS, y_train21)\n",
    "\n",
    "x2y1_predict = x2y1_nn.predict(X_test21_PCS)\n",
    "x2y1_accuracy_score = accuracy_score(y_test21,x2y1_predict)\n",
    "x2y1_f1_score = f1_score(y_test21,x2y1_predict) \n",
    "x2y1_AUC_score = roc_auc_score(y_test21,x2y1_predict)\n",
    "    \n",
    "print(\"Predicted values using x2 and y1:\",x2y1_predict)\n",
    "print(\"Expected values:\",y_test21)\n",
    "print(\"Resulting in an accuracy score of:\",x2y1_accuracy_score,\"and f1 score of:\",x2y1_f1_score,\"and AUC score of\",x2y1_AUC_score,\"\\n\")\n",
    "plot_confusion_matrix(x2y1_nn,X_test21_PCS,y_test21,cmap=plt.cm.Blues)\n",
    "plt.title(\"Confusion Matrix for x2, y1\")\n",
    "plt.show()\n",
    "\n",
    "# x3 y1\n",
    "x3y1_nn = neighbors.KNeighborsClassifier(n_neighbors)\n",
    "x3y1_nn.fit(X_train31_PCS, y_train31)\n",
    "\n",
    "x3y1_predict = x3y1_nn.predict(X_test31_PCS)\n",
    "x3y1_accuracy_score = accuracy_score(y_test31,x3y1_predict)\n",
    "x3y1_f1_score = f1_score(y_test31,x3y1_predict)\n",
    "x3y1_AUC_score = roc_auc_score(y_test31,x3y1_predict)\n",
    "\n",
    "print(\"Predicted values using x3 and y1:\",x3y1_predict)\n",
    "print(\"Expected values:\",y_test31)\n",
    "print(\"Resulting in an accuracy score of:\",x3y1_accuracy_score,\"and f1 score of:\",x3y1_f1_score,\"and AUC score of\",x3y1_AUC_score,\"\\n\")\n",
    "plot_confusion_matrix(x3y1_nn,X_test31_PCS,y_test31,cmap=plt.cm.Blues)\n",
    "plt.title(\"Confusion Matrix for x3, y1\")\n",
    "plt.show()"
   ]
  },
  {
   "cell_type": "code",
   "execution_count": 19,
   "id": "6ea93942",
   "metadata": {},
   "outputs": [
    {
     "name": "stdout",
     "output_type": "stream",
     "text": [
      "Predicted values using x1 and y2: [1 1 2 0 0 3 1 3 2 0 2 4 3 4 2 0 2 4 3 4]\n",
      "Expected values: [1 1 2 0 0 3 1 3 4 0 3 2 3 3 2 0 2 4 3 3]\n",
      "Resulting in an accuracy score of: 0.75 and f1 score of: 0.7454545454545454 and AUC score of 0.9244047619047618 \n",
      "\n"
     ]
    },
    {
     "data": {
      "image/png": "[encoded data removed]",
      "text/plain": [
       "<Figure size 432x288 with 2 Axes>"
      ]
     },
     "metadata": {
      "needs_background": "light"
     },
     "output_type": "display_data"
    },
    {
     "name": "stdout",
     "output_type": "stream",
     "text": [
      "Predicted values using x2 and y2: [4 2 1 0 0 1 4 1 3 0 2 2 1 4 2 0 3 4 4 4]\n",
      "Expected values: [1 1 2 0 0 3 1 3 4 0 3 2 3 3 2 0 2 4 3 3]\n",
      "Resulting in an accuracy score of: 0.35 and f1 score of: 0.35 and AUC score of 0.656547619047619 \n",
      "\n"
     ]
    },
    {
     "data": {
      "image/png": "[encoded data removed]",
      "text/plain": [
       "<Figure size 432x288 with 2 Axes>"
      ]
     },
     "metadata": {
      "needs_background": "light"
     },
     "output_type": "display_data"
    },
    {
     "name": "stdout",
     "output_type": "stream",
     "text": [
      "Predicted values using x3 and y2: [1 1 2 0 0 0 1 0 4 0 0 2 3 3 2 1 2 0 3 2]\n",
      "Expected values: [1 1 2 0 0 3 1 3 4 0 3 2 3 3 2 0 2 4 3 3]\n",
      "Resulting in an accuracy score of: 0.7 and f1 score of: 0.7116305916305916 and AUC score of 0.879761904761905 \n",
      "\n"
     ]
    },
    {
     "data": {
      "image/png": "[encoded data removed]",
      "text/plain": [
       "<Figure size 432x288 with 2 Axes>"
      ]
     },
     "metadata": {
      "needs_background": "light"
     },
     "output_type": "display_data"
    }
   ],
   "source": [
    "# Situation 2\n",
    "# x1 y2\n",
    "x1y2_nn = neighbors.KNeighborsClassifier(n_neighbors)\n",
    "x1y2_nn.fit(X_train12_PCS, y_train12)\n",
    "\n",
    "x1y2_predict = x1y2_nn.predict(X_test12_PCS)\n",
    "x1y2_accuracy_score = accuracy_score(y_test12,x1y2_predict)\n",
    "x1y2_f1_score = f1_score(y_test12,x1y2_predict,average='macro')\n",
    "x1y2_y_prob = x1y2_nn.predict_proba(X_test12_PCS)\n",
    "x1y2_AUC_score = roc_auc_score(y_test12,x1y2_y_prob,multi_class=\"ovo\",average='macro')\n",
    "\n",
    "print(\"Predicted values using x1 and y2:\",x1y2_predict)\n",
    "print(\"Expected values:\",y_test12)\n",
    "print(\"Resulting in an accuracy score of:\",x1y2_accuracy_score,\"and f1 score of:\",x1y2_f1_score,\"and AUC score of\",x1y2_AUC_score,\"\\n\")\n",
    "plot_confusion_matrix(x1y2_nn,X_test12_PCS,y_test12,cmap=plt.cm.Blues)\n",
    "plt.title(\"Confusion Matrix for x1, y2\")\n",
    "plt.show()\n",
    "\n",
    "# x2 y2\n",
    "x2y2_nn = neighbors.KNeighborsClassifier(n_neighbors)\n",
    "x2y2_nn.fit(X_train22_PCS, y_train22)\n",
    "\n",
    "x2y2_predict = x2y2_nn.predict(X_test22_PCS)\n",
    "x2y2_accuracy_score = accuracy_score(y_test22,x2y2_predict)\n",
    "x2y2_f1_score = f1_score(y_test22,x2y2_predict,average='macro')\n",
    "x2y2_y_prob = x2y2_nn.predict_proba(X_test22_PCS)\n",
    "x2y2_AUC_score = roc_auc_score(y_test22,x2y2_y_prob,multi_class=\"ovo\",average='macro')\n",
    "    \n",
    "print(\"Predicted values using x2 and y2:\",x2y2_predict)\n",
    "print(\"Expected values:\",y_test22)\n",
    "print(\"Resulting in an accuracy score of:\",x2y2_accuracy_score,\"and f1 score of:\",x2y2_f1_score,\"and AUC score of\",x2y2_AUC_score,\"\\n\")\n",
    "plot_confusion_matrix(x2y2_nn,X_test22_PCS,y_test22,cmap=plt.cm.Blues)\n",
    "plt.title(\"Confusion Matrix for x2, y2\")\n",
    "plt.show()\n",
    "\n",
    "# x3 y2\n",
    "x3y2_nn = neighbors.KNeighborsClassifier(n_neighbors)\n",
    "x3y2_nn.fit(X_train32_PCS, y_train32)\n",
    "\n",
    "x3y2_predict = x3y2_nn.predict(X_test32_PCS)\n",
    "x3y2_accuracy_score = accuracy_score(y_test32,x3y2_predict)\n",
    "x3y2_f1_score = f1_score(y_test32,x3y2_predict,average='macro')\n",
    "x3y2_y_prob = x3y2_nn.predict_proba(X_test32_PCS)\n",
    "x3y2_AUC_score = roc_auc_score(y_test32,x3y2_y_prob,multi_class=\"ovo\",average='macro')\n",
    "\n",
    "print(\"Predicted values using x3 and y2:\",x3y2_predict)\n",
    "print(\"Expected values:\",y_test32)\n",
    "print(\"Resulting in an accuracy score of:\",x3y2_accuracy_score,\"and f1 score of:\",x3y2_f1_score,\"and AUC score of\",x3y2_AUC_score,\"\\n\")\n",
    "plot_confusion_matrix(x3y2_nn,X_test32_PCS,y_test32,cmap=plt.cm.Blues)\n",
    "plt.title(\"Confusion Matrix for x3, y2\")\n",
    "plt.show()"
   ]
  },
  {
   "cell_type": "code",
   "execution_count": null,
   "id": "8333647d",
   "metadata": {},
   "outputs": [],
   "source": []
  }
 ],
 "metadata": {
  "kernelspec": {
   "display_name": "Python 3 (ipykernel)",
   "language": "python",
   "name": "python3"
  },
  "language_info": {
   "codemirror_mode": {
    "name": "ipython",
    "version": 3
   },
   "file_extension": ".py",
   "mimetype": "text/x-python",
   "name": "python",
   "nbconvert_exporter": "python",
   "pygments_lexer": "ipython3",
   "version": "3.9.7"
  }
 },
 "nbformat": 4,
 "nbformat_minor": 5
}
